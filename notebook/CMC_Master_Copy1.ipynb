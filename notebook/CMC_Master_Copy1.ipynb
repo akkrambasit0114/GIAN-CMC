{
  "cells": [
    {
      "attachments": {},
      "cell_type": "markdown",
      "metadata": {
        "id": "QSghHhtIzjV5"
      },
      "source": [
        "# Importing the Dependencies\n"
      ]
    },
    {
      "cell_type": "code",
      "execution_count": 4,
      "metadata": {
        "id": "pNrkfaZWtJJ7"
      },
      "outputs": [],
      "source": [
        "import pandas as pd\n",
        "import matplotlib.pyplot as plt\n",
        "import numpy as np\n",
        "import seaborn as sns\n",
        "from sklearn.model_selection import train_test_split\n",
        "from sklearn.linear_model import LinearRegression\n",
        "from sklearn.linear_model import Lasso\n",
        "from sklearn.ensemble import RandomForestRegressor\n",
        "from xgboost import XGBRegressor as XGB\n",
        "from sklearn import metrics\n",
        "import math\n",
        "from sklearn.utils import shuffle"
      ]
    },
    {
      "cell_type": "code",
      "execution_count": 5,
      "metadata": {
        "id": "JV2QtvAgOzWP"
      },
      "outputs": [],
      "source": [
        "%matplotlib inline\n",
        "#import arviz as az\n",
        "import numpy as np\n",
        "import warnings\n",
        "warnings.filterwarnings(\"ignore\")\n",
        "import matplotlib.pyplot as plt\n",
        "#import graphviz\n",
        "import os"
      ]
    },
    {
      "cell_type": "code",
      "execution_count": 6,
      "metadata": {
        "id": "fdpXEM13OzWQ",
        "outputId": "113d9d85-f2d1-4df6-f804-f8bb064e167b"
      },
      "outputs": [],
      "source": [
        "#import pymc3 as pm"
      ]
    },
    {
      "cell_type": "markdown",
      "metadata": {
        "id": "VrDd3I050OqH"
      },
      "source": [
        "# Data Collection and Processing"
      ]
    },
    {
      "cell_type": "code",
      "execution_count": 7,
      "metadata": {
        "id": "k0lBJoM90JHf"
      },
      "outputs": [],
      "source": [
        "# loading the data from csv file to pandas dataframe\n",
        "df = pd.read_csv('/Users/insomni_.ak/Documents/Machine Learning/GIAN_CMC/input/data_Aug23_2.csv',index_col=False)"
      ]
    },
    {
      "cell_type": "code",
      "execution_count": 8,
      "metadata": {},
      "outputs": [
        {
          "data": {
            "text/html": [
              "<div>\n",
              "<style scoped>\n",
              "    .dataframe tbody tr th:only-of-type {\n",
              "        vertical-align: middle;\n",
              "    }\n",
              "\n",
              "    .dataframe tbody tr th {\n",
              "        vertical-align: top;\n",
              "    }\n",
              "\n",
              "    .dataframe thead th {\n",
              "        text-align: right;\n",
              "    }\n",
              "</style>\n",
              "<table border=\"1\" class=\"dataframe\">\n",
              "  <thead>\n",
              "    <tr style=\"text-align: right;\">\n",
              "      <th></th>\n",
              "      <th>/</th>\n",
              "      <th>Components and Methods</th>\n",
              "      <th>Unnamed: 2</th>\n",
              "      <th>Unnamed: 3</th>\n",
              "      <th>Unnamed: 4</th>\n",
              "      <th>Unnamed: 5</th>\n",
              "      <th>Unnamed: 6</th>\n",
              "      <th>Unnamed: 7</th>\n",
              "      <th>Unnamed: 8</th>\n",
              "      <th>Unnamed: 9</th>\n",
              "      <th>...</th>\n",
              "      <th>Unnamed: 56</th>\n",
              "      <th>Unnamed: 57</th>\n",
              "      <th>Unnamed: 58</th>\n",
              "      <th>Unnamed: 59</th>\n",
              "      <th>Unnamed: 60</th>\n",
              "      <th>Unnamed: 61</th>\n",
              "      <th>Unnamed: 62</th>\n",
              "      <th>Unnamed: 63</th>\n",
              "      <th>Unnamed: 64</th>\n",
              "      <th>Unnamed: 65</th>\n",
              "    </tr>\n",
              "  </thead>\n",
              "  <tbody>\n",
              "    <tr>\n",
              "      <th>0</th>\n",
              "      <td>Serial Number !</td>\n",
              "      <td>Matrix</td>\n",
              "      <td>Reinforcement</td>\n",
              "      <td>Fiber Manufacturer</td>\n",
              "      <td>Fiber Type</td>\n",
              "      <td>Interphase-1</td>\n",
              "      <td>PyC</td>\n",
              "      <td>SiC</td>\n",
              "      <td>BN</td>\n",
              "      <td>Interphase-1 Thickness</td>\n",
              "      <td>...</td>\n",
              "      <td>Tensile Fracture Strain</td>\n",
              "      <td>Tensile Testing Temperature</td>\n",
              "      <td>Critical Broken Fiber's Fraction</td>\n",
              "      <td>Forces at Ultimate Fracture</td>\n",
              "      <td>Creep compliances</td>\n",
              "      <td>Residual Modulus</td>\n",
              "      <td>Change in Weight Ratio</td>\n",
              "      <td>Literature Link</td>\n",
              "      <td>Checked by</td>\n",
              "      <td>comments</td>\n",
              "    </tr>\n",
              "    <tr>\n",
              "      <th>1</th>\n",
              "      <td>Symbol-&gt;</td>\n",
              "      <td>NaN</td>\n",
              "      <td>NaN</td>\n",
              "      <td>NaN</td>\n",
              "      <td>NaN</td>\n",
              "      <td>NaN</td>\n",
              "      <td>NaN</td>\n",
              "      <td>NaN</td>\n",
              "      <td>NaN</td>\n",
              "      <td>NaN</td>\n",
              "      <td>...</td>\n",
              "      <td>NaN</td>\n",
              "      <td>NaN</td>\n",
              "      <td>NaN</td>\n",
              "      <td>NaN</td>\n",
              "      <td>NaN</td>\n",
              "      <td>NaN</td>\n",
              "      <td>NaN</td>\n",
              "      <td>NaN</td>\n",
              "      <td>NaN</td>\n",
              "      <td>NaN</td>\n",
              "    </tr>\n",
              "    <tr>\n",
              "      <th>2</th>\n",
              "      <td>Unit-&gt;</td>\n",
              "      <td>NaN</td>\n",
              "      <td>NaN</td>\n",
              "      <td>NaN</td>\n",
              "      <td>NaN</td>\n",
              "      <td>NaN</td>\n",
              "      <td>NaN</td>\n",
              "      <td>NaN</td>\n",
              "      <td>NaN</td>\n",
              "      <td>µm</td>\n",
              "      <td>...</td>\n",
              "      <td>%</td>\n",
              "      <td>C</td>\n",
              "      <td>NaN</td>\n",
              "      <td>NaN</td>\n",
              "      <td>dpa-1. Mpa-1</td>\n",
              "      <td>%</td>\n",
              "      <td>NaN</td>\n",
              "      <td>NaN</td>\n",
              "      <td>NaN</td>\n",
              "      <td>NaN</td>\n",
              "    </tr>\n",
              "    <tr>\n",
              "      <th>3</th>\n",
              "      <td>4</td>\n",
              "      <td>SiC</td>\n",
              "      <td>SiC</td>\n",
              "      <td>Nippon Carbon</td>\n",
              "      <td>Hi-Nicalon Type S</td>\n",
              "      <td>PyC</td>\n",
              "      <td>1</td>\n",
              "      <td>0</td>\n",
              "      <td>0</td>\n",
              "      <td>0.035</td>\n",
              "      <td>...</td>\n",
              "      <td>0.2</td>\n",
              "      <td>900</td>\n",
              "      <td>NaN</td>\n",
              "      <td>NaN</td>\n",
              "      <td>NaN</td>\n",
              "      <td>NaN</td>\n",
              "      <td>NaN</td>\n",
              "      <td>https://doi.org/10.1016/j.jnucmat.2020.152086</td>\n",
              "      <td>AH</td>\n",
              "      <td>Note: this was tensile tested @900C under He i...</td>\n",
              "    </tr>\n",
              "    <tr>\n",
              "      <th>4</th>\n",
              "      <td>5</td>\n",
              "      <td>SiC</td>\n",
              "      <td>SiC</td>\n",
              "      <td>Nicalon</td>\n",
              "      <td>Hi-Nicalon Type S - AH</td>\n",
              "      <td>PyC</td>\n",
              "      <td>1</td>\n",
              "      <td>0</td>\n",
              "      <td>0</td>\n",
              "      <td>0.1</td>\n",
              "      <td>...</td>\n",
              "      <td>0.7</td>\n",
              "      <td>Room Temperature</td>\n",
              "      <td>5 breaks/mm</td>\n",
              "      <td>70</td>\n",
              "      <td>NaN</td>\n",
              "      <td>NaN</td>\n",
              "      <td>NaN</td>\n",
              "      <td>https://doi.org/10.1016/j.jmps.2013.09.001</td>\n",
              "      <td>AH</td>\n",
              "      <td>other things to consider: m.c. saturation, dis...</td>\n",
              "    </tr>\n",
              "  </tbody>\n",
              "</table>\n",
              "<p>5 rows × 66 columns</p>\n",
              "</div>"
            ],
            "text/plain": [
              "                 / Components and Methods     Unnamed: 2          Unnamed: 3  \\\n",
              "0  Serial Number !                Matrix   Reinforcement  Fiber Manufacturer   \n",
              "1         Symbol->                    NaN            NaN                 NaN   \n",
              "2           Unit->                    NaN            NaN                 NaN   \n",
              "3                4                    SiC            SiC       Nippon Carbon   \n",
              "4                5                    SiC            SiC             Nicalon   \n",
              "\n",
              "               Unnamed: 4    Unnamed: 5 Unnamed: 6 Unnamed: 7 Unnamed: 8  \\\n",
              "0              Fiber Type  Interphase-1        PyC        SiC         BN   \n",
              "1                     NaN           NaN        NaN        NaN        NaN   \n",
              "2                     NaN           NaN        NaN        NaN        NaN   \n",
              "3      Hi-Nicalon Type S            PyC          1          0          0   \n",
              "4  Hi-Nicalon Type S - AH           PyC          1          0          0   \n",
              "\n",
              "               Unnamed: 9  ...              Unnamed: 56  \\\n",
              "0  Interphase-1 Thickness  ...  Tensile Fracture Strain   \n",
              "1                     NaN  ...                      NaN   \n",
              "2                      µm  ...                        %   \n",
              "3                   0.035  ...                      0.2   \n",
              "4                     0.1  ...                      0.7   \n",
              "\n",
              "                   Unnamed: 57                       Unnamed: 58  \\\n",
              "0  Tensile Testing Temperature  Critical Broken Fiber's Fraction   \n",
              "1                          NaN                               NaN   \n",
              "2                            C                               NaN   \n",
              "3                          900                               NaN   \n",
              "4             Room Temperature                       5 breaks/mm   \n",
              "\n",
              "                   Unnamed: 59        Unnamed: 60       Unnamed: 61  \\\n",
              "0  Forces at Ultimate Fracture  Creep compliances  Residual Modulus   \n",
              "1                          NaN                NaN               NaN   \n",
              "2                          NaN       dpa-1. Mpa-1                 %   \n",
              "3                          NaN                NaN               NaN   \n",
              "4                           70                NaN               NaN   \n",
              "\n",
              "              Unnamed: 62                                    Unnamed: 63  \\\n",
              "0  Change in Weight Ratio                                Literature Link   \n",
              "1                     NaN                                            NaN   \n",
              "2                     NaN                                            NaN   \n",
              "3                     NaN  https://doi.org/10.1016/j.jnucmat.2020.152086   \n",
              "4                     NaN     https://doi.org/10.1016/j.jmps.2013.09.001   \n",
              "\n",
              "  Unnamed: 64                                        Unnamed: 65  \n",
              "0  Checked by                                           comments  \n",
              "1         NaN                                                NaN  \n",
              "2         NaN                                                NaN  \n",
              "3          AH  Note: this was tensile tested @900C under He i...  \n",
              "4          AH  other things to consider: m.c. saturation, dis...  \n",
              "\n",
              "[5 rows x 66 columns]"
            ]
          },
          "execution_count": 8,
          "metadata": {},
          "output_type": "execute_result"
        }
      ],
      "source": [
        "df.head()"
      ]
    },
    {
      "cell_type": "code",
      "execution_count": 9,
      "metadata": {},
      "outputs": [
        {
          "data": {
            "text/plain": [
              "Index(['/', 'Components and Methods', 'Unnamed: 2', 'Unnamed: 3', 'Unnamed: 4',\n",
              "       'Unnamed: 5', 'Unnamed: 6', 'Unnamed: 7', 'Unnamed: 8', 'Unnamed: 9',\n",
              "       'Unnamed: 10', 'Unnamed: 11', 'Unnamed: 12', 'Unnamed: 13',\n",
              "       'Unnamed: 14', 'Unnamed: 15', 'Unnamed: 16', 'Unnamed: 17',\n",
              "       'Unnamed: 18', 'Unnamed: 19', 'Unnamed: 20', 'Unnamed: 21',\n",
              "       'Unnamed: 22', 'Unnamed: 23', 'Properties of Interfaces', 'Unnamed: 25',\n",
              "       'Unnamed: 26', 'Unnamed: 27', 'Physical Properties of Matrix',\n",
              "       'Unnamed: 29', 'Unnamed: 30', 'Unnamed: 31', 'Unnamed: 32',\n",
              "       'Unnamed: 33', 'Unnamed: 34', 'Unnamed: 35', 'Unnamed: 36',\n",
              "       'Unnamed: 37', 'Unnamed: 38', 'Unnamed: 39',\n",
              "       'Properties of Reinforcement/Fiber', 'Unnamed: 41', 'Unnamed: 42',\n",
              "       'Unnamed: 43', 'Unnamed: 44', 'Unnamed: 45', 'Unnamed: 46',\n",
              "       'Unnamed: 47', 'Unnamed: 48', 'Unnamed: 49', 'Unnamed: 50',\n",
              "       'Unnamed: 51', 'Unnamed: 52', 'Unnamed: 53', 'Tensile Testing',\n",
              "       'Unnamed: 55', 'Unnamed: 56', 'Unnamed: 57', 'Unnamed: 58',\n",
              "       'Unnamed: 59', 'Unnamed: 60', 'Unnamed: 61', 'Unnamed: 62',\n",
              "       'Unnamed: 63', 'Unnamed: 64', 'Unnamed: 65'],\n",
              "      dtype='object')"
            ]
          },
          "execution_count": 9,
          "metadata": {},
          "output_type": "execute_result"
        }
      ],
      "source": [
        "df.columns"
      ]
    },
    {
      "cell_type": "code",
      "execution_count": 6,
      "metadata": {
        "id": "SPBgwzJLOzWR",
        "outputId": "6e4eb9b1-8e46-48c1-98a7-207143f6b231"
      },
      "outputs": [
        {
          "name": "stdout",
          "output_type": "stream",
          "text": [
            "0  =  /\n",
            "1  =  Components and Methods\n",
            "2  =  Unnamed: 2\n",
            "3  =  Unnamed: 3\n",
            "4  =  Unnamed: 4\n",
            "5  =  Unnamed: 5\n",
            "6  =  Unnamed: 6\n",
            "7  =  Unnamed: 7\n",
            "8  =  Unnamed: 8\n",
            "9  =  Unnamed: 9\n",
            "10  =  Unnamed: 10\n",
            "11  =  Unnamed: 11\n",
            "12  =  Unnamed: 12\n",
            "13  =  Unnamed: 13\n",
            "14  =  Unnamed: 14\n",
            "15  =  Unnamed: 15\n",
            "16  =  Unnamed: 16\n",
            "17  =  Unnamed: 17\n",
            "18  =  Unnamed: 18\n",
            "19  =  Unnamed: 19\n",
            "20  =  Unnamed: 20\n",
            "21  =  Unnamed: 21\n",
            "22  =  Unnamed: 22\n",
            "23  =  Unnamed: 23\n",
            "24  =  Properties of Interfaces\n",
            "25  =  Unnamed: 25\n",
            "26  =  Unnamed: 26\n",
            "27  =  Unnamed: 27\n",
            "28  =  Physical Properties of Matrix\n",
            "29  =  Unnamed: 29\n",
            "30  =  Unnamed: 30\n",
            "31  =  Unnamed: 31\n",
            "32  =  Unnamed: 32\n",
            "33  =  Unnamed: 33\n",
            "34  =  Unnamed: 34\n",
            "35  =  Unnamed: 35\n",
            "36  =  Unnamed: 36\n",
            "37  =  Unnamed: 37\n",
            "38  =  Unnamed: 38\n",
            "39  =  Unnamed: 39\n",
            "40  =  Properties of Reinforcement/Fiber\n",
            "41  =  Unnamed: 41\n",
            "42  =  Unnamed: 42\n",
            "43  =  Unnamed: 43\n",
            "44  =  Unnamed: 44\n",
            "45  =  Unnamed: 45\n",
            "46  =  Unnamed: 46\n",
            "47  =  Unnamed: 47\n",
            "48  =  Unnamed: 48\n",
            "49  =  Unnamed: 49\n",
            "50  =  Unnamed: 50\n",
            "51  =  Unnamed: 51\n",
            "52  =  Unnamed: 52\n",
            "53  =  Unnamed: 53\n",
            "54  =  Tensile Testing\n",
            "55  =  Unnamed: 55\n",
            "56  =  Unnamed: 56\n",
            "57  =  Unnamed: 57\n",
            "58  =  Unnamed: 58\n",
            "59  =  Unnamed: 59\n",
            "60  =  Unnamed: 60\n",
            "61  =  Unnamed: 61\n",
            "62  =  Unnamed: 62\n",
            "63  =  Unnamed: 63\n",
            "64  =  Unnamed: 64\n",
            "65  =  Unnamed: 65\n"
          ]
        }
      ],
      "source": [
        "# saving the feature names into a list\n",
        "f_name=list(df.columns)\n",
        "lenn=len(f_name)\n",
        "\n",
        "for i in range(0,lenn):\n",
        "    print(i, \" = \",f_name[i])"
      ]
    },
    {
      "cell_type": "code",
      "execution_count": 10,
      "metadata": {
        "id": "Tllg6_jxOzWR"
      },
      "outputs": [],
      "source": [
        "#renaming features\n",
        "df = df.rename(columns={'Fiber Tensile Modulus or Young modulus or Tensile Modulus': 'Fiber Modulus', 'Tensile Strength ': 'Strength','Tensile Fracture Strain':'Strain'})"
      ]
    },
    {
      "cell_type": "code",
      "execution_count": 11,
      "metadata": {
        "colab": {
          "base_uri": "https://localhost:8080/",
          "height": 198
        },
        "id": "9YKIoB-i0kIi",
        "outputId": "76d663f3-f266-4c82-ecb9-fb4fbb9074ff"
      },
      "outputs": [
        {
          "data": {
            "text/html": [
              "<div>\n",
              "<style scoped>\n",
              "    .dataframe tbody tr th:only-of-type {\n",
              "        vertical-align: middle;\n",
              "    }\n",
              "\n",
              "    .dataframe tbody tr th {\n",
              "        vertical-align: top;\n",
              "    }\n",
              "\n",
              "    .dataframe thead th {\n",
              "        text-align: right;\n",
              "    }\n",
              "</style>\n",
              "<table border=\"1\" class=\"dataframe\">\n",
              "  <thead>\n",
              "    <tr style=\"text-align: right;\">\n",
              "      <th></th>\n",
              "      <th>/</th>\n",
              "      <th>Components and Methods</th>\n",
              "      <th>Unnamed: 2</th>\n",
              "      <th>Unnamed: 3</th>\n",
              "      <th>Unnamed: 4</th>\n",
              "      <th>Unnamed: 5</th>\n",
              "      <th>Unnamed: 6</th>\n",
              "      <th>Unnamed: 7</th>\n",
              "      <th>Unnamed: 8</th>\n",
              "      <th>Unnamed: 9</th>\n",
              "      <th>...</th>\n",
              "      <th>Unnamed: 56</th>\n",
              "      <th>Unnamed: 57</th>\n",
              "      <th>Unnamed: 58</th>\n",
              "      <th>Unnamed: 59</th>\n",
              "      <th>Unnamed: 60</th>\n",
              "      <th>Unnamed: 61</th>\n",
              "      <th>Unnamed: 62</th>\n",
              "      <th>Unnamed: 63</th>\n",
              "      <th>Unnamed: 64</th>\n",
              "      <th>Unnamed: 65</th>\n",
              "    </tr>\n",
              "  </thead>\n",
              "  <tbody>\n",
              "    <tr>\n",
              "      <th>0</th>\n",
              "      <td>Serial Number !</td>\n",
              "      <td>Matrix</td>\n",
              "      <td>Reinforcement</td>\n",
              "      <td>Fiber Manufacturer</td>\n",
              "      <td>Fiber Type</td>\n",
              "      <td>Interphase-1</td>\n",
              "      <td>PyC</td>\n",
              "      <td>SiC</td>\n",
              "      <td>BN</td>\n",
              "      <td>Interphase-1 Thickness</td>\n",
              "      <td>...</td>\n",
              "      <td>Tensile Fracture Strain</td>\n",
              "      <td>Tensile Testing Temperature</td>\n",
              "      <td>Critical Broken Fiber's Fraction</td>\n",
              "      <td>Forces at Ultimate Fracture</td>\n",
              "      <td>Creep compliances</td>\n",
              "      <td>Residual Modulus</td>\n",
              "      <td>Change in Weight Ratio</td>\n",
              "      <td>Literature Link</td>\n",
              "      <td>Checked by</td>\n",
              "      <td>comments</td>\n",
              "    </tr>\n",
              "    <tr>\n",
              "      <th>1</th>\n",
              "      <td>Symbol-&gt;</td>\n",
              "      <td>NaN</td>\n",
              "      <td>NaN</td>\n",
              "      <td>NaN</td>\n",
              "      <td>NaN</td>\n",
              "      <td>NaN</td>\n",
              "      <td>NaN</td>\n",
              "      <td>NaN</td>\n",
              "      <td>NaN</td>\n",
              "      <td>NaN</td>\n",
              "      <td>...</td>\n",
              "      <td>NaN</td>\n",
              "      <td>NaN</td>\n",
              "      <td>NaN</td>\n",
              "      <td>NaN</td>\n",
              "      <td>NaN</td>\n",
              "      <td>NaN</td>\n",
              "      <td>NaN</td>\n",
              "      <td>NaN</td>\n",
              "      <td>NaN</td>\n",
              "      <td>NaN</td>\n",
              "    </tr>\n",
              "    <tr>\n",
              "      <th>2</th>\n",
              "      <td>Unit-&gt;</td>\n",
              "      <td>NaN</td>\n",
              "      <td>NaN</td>\n",
              "      <td>NaN</td>\n",
              "      <td>NaN</td>\n",
              "      <td>NaN</td>\n",
              "      <td>NaN</td>\n",
              "      <td>NaN</td>\n",
              "      <td>NaN</td>\n",
              "      <td>µm</td>\n",
              "      <td>...</td>\n",
              "      <td>%</td>\n",
              "      <td>C</td>\n",
              "      <td>NaN</td>\n",
              "      <td>NaN</td>\n",
              "      <td>dpa-1. Mpa-1</td>\n",
              "      <td>%</td>\n",
              "      <td>NaN</td>\n",
              "      <td>NaN</td>\n",
              "      <td>NaN</td>\n",
              "      <td>NaN</td>\n",
              "    </tr>\n",
              "    <tr>\n",
              "      <th>3</th>\n",
              "      <td>4</td>\n",
              "      <td>SiC</td>\n",
              "      <td>SiC</td>\n",
              "      <td>Nippon Carbon</td>\n",
              "      <td>Hi-Nicalon Type S</td>\n",
              "      <td>PyC</td>\n",
              "      <td>1</td>\n",
              "      <td>0</td>\n",
              "      <td>0</td>\n",
              "      <td>0.035</td>\n",
              "      <td>...</td>\n",
              "      <td>0.2</td>\n",
              "      <td>900</td>\n",
              "      <td>NaN</td>\n",
              "      <td>NaN</td>\n",
              "      <td>NaN</td>\n",
              "      <td>NaN</td>\n",
              "      <td>NaN</td>\n",
              "      <td>https://doi.org/10.1016/j.jnucmat.2020.152086</td>\n",
              "      <td>AH</td>\n",
              "      <td>Note: this was tensile tested @900C under He i...</td>\n",
              "    </tr>\n",
              "    <tr>\n",
              "      <th>4</th>\n",
              "      <td>5</td>\n",
              "      <td>SiC</td>\n",
              "      <td>SiC</td>\n",
              "      <td>Nicalon</td>\n",
              "      <td>Hi-Nicalon Type S - AH</td>\n",
              "      <td>PyC</td>\n",
              "      <td>1</td>\n",
              "      <td>0</td>\n",
              "      <td>0</td>\n",
              "      <td>0.1</td>\n",
              "      <td>...</td>\n",
              "      <td>0.7</td>\n",
              "      <td>Room Temperature</td>\n",
              "      <td>5 breaks/mm</td>\n",
              "      <td>70</td>\n",
              "      <td>NaN</td>\n",
              "      <td>NaN</td>\n",
              "      <td>NaN</td>\n",
              "      <td>https://doi.org/10.1016/j.jmps.2013.09.001</td>\n",
              "      <td>AH</td>\n",
              "      <td>other things to consider: m.c. saturation, dis...</td>\n",
              "    </tr>\n",
              "  </tbody>\n",
              "</table>\n",
              "<p>5 rows × 66 columns</p>\n",
              "</div>"
            ],
            "text/plain": [
              "                 / Components and Methods     Unnamed: 2          Unnamed: 3  \\\n",
              "0  Serial Number !                Matrix   Reinforcement  Fiber Manufacturer   \n",
              "1         Symbol->                    NaN            NaN                 NaN   \n",
              "2           Unit->                    NaN            NaN                 NaN   \n",
              "3                4                    SiC            SiC       Nippon Carbon   \n",
              "4                5                    SiC            SiC             Nicalon   \n",
              "\n",
              "               Unnamed: 4    Unnamed: 5 Unnamed: 6 Unnamed: 7 Unnamed: 8  \\\n",
              "0              Fiber Type  Interphase-1        PyC        SiC         BN   \n",
              "1                     NaN           NaN        NaN        NaN        NaN   \n",
              "2                     NaN           NaN        NaN        NaN        NaN   \n",
              "3      Hi-Nicalon Type S            PyC          1          0          0   \n",
              "4  Hi-Nicalon Type S - AH           PyC          1          0          0   \n",
              "\n",
              "               Unnamed: 9  ...              Unnamed: 56  \\\n",
              "0  Interphase-1 Thickness  ...  Tensile Fracture Strain   \n",
              "1                     NaN  ...                      NaN   \n",
              "2                      µm  ...                        %   \n",
              "3                   0.035  ...                      0.2   \n",
              "4                     0.1  ...                      0.7   \n",
              "\n",
              "                   Unnamed: 57                       Unnamed: 58  \\\n",
              "0  Tensile Testing Temperature  Critical Broken Fiber's Fraction   \n",
              "1                          NaN                               NaN   \n",
              "2                            C                               NaN   \n",
              "3                          900                               NaN   \n",
              "4             Room Temperature                       5 breaks/mm   \n",
              "\n",
              "                   Unnamed: 59        Unnamed: 60       Unnamed: 61  \\\n",
              "0  Forces at Ultimate Fracture  Creep compliances  Residual Modulus   \n",
              "1                          NaN                NaN               NaN   \n",
              "2                          NaN       dpa-1. Mpa-1                 %   \n",
              "3                          NaN                NaN               NaN   \n",
              "4                           70                NaN               NaN   \n",
              "\n",
              "              Unnamed: 62                                    Unnamed: 63  \\\n",
              "0  Change in Weight Ratio                                Literature Link   \n",
              "1                     NaN                                            NaN   \n",
              "2                     NaN                                            NaN   \n",
              "3                     NaN  https://doi.org/10.1016/j.jnucmat.2020.152086   \n",
              "4                     NaN     https://doi.org/10.1016/j.jmps.2013.09.001   \n",
              "\n",
              "  Unnamed: 64                                        Unnamed: 65  \n",
              "0  Checked by                                           comments  \n",
              "1         NaN                                                NaN  \n",
              "2         NaN                                                NaN  \n",
              "3          AH  Note: this was tensile tested @900C under He i...  \n",
              "4          AH  other things to consider: m.c. saturation, dis...  \n",
              "\n",
              "[5 rows x 66 columns]"
            ]
          },
          "execution_count": 11,
          "metadata": {},
          "output_type": "execute_result"
        }
      ],
      "source": [
        "# inspecting the first 5 rows of the dataframe\n",
        "df.head()"
      ]
    },
    {
      "cell_type": "code",
      "execution_count": 12,
      "metadata": {
        "id": "Tq-1TIcbOzWS"
      },
      "outputs": [
        {
          "data": {
            "text/plain": [
              "(965, 66)"
            ]
          },
          "execution_count": 12,
          "metadata": {},
          "output_type": "execute_result"
        }
      ],
      "source": [
        "df.shape"
      ]
    },
    {
      "cell_type": "code",
      "execution_count": 13,
      "metadata": {
        "id": "xYFPXwJhOzWT"
      },
      "outputs": [],
      "source": [
        "# df.drop(df.columns[[0, 1, 2,7,11,15]], axis=1, inplace=True)"
      ]
    },
    {
      "cell_type": "code",
      "execution_count": 14,
      "metadata": {
        "id": "_sF-4HJ8OzWT",
        "outputId": "8ad6282c-062f-4978-8fdc-c9774964301e"
      },
      "outputs": [
        {
          "name": "stdout",
          "output_type": "stream",
          "text": [
            "0  =  /\n",
            "1  =  Components and Methods\n",
            "2  =  Unnamed: 2\n",
            "3  =  Unnamed: 3\n",
            "4  =  Unnamed: 4\n",
            "5  =  Unnamed: 5\n",
            "6  =  Unnamed: 6\n",
            "7  =  Unnamed: 7\n",
            "8  =  Unnamed: 8\n",
            "9  =  Unnamed: 9\n",
            "10  =  Unnamed: 10\n",
            "11  =  Unnamed: 11\n",
            "12  =  Unnamed: 12\n",
            "13  =  Unnamed: 13\n",
            "14  =  Unnamed: 14\n",
            "15  =  Unnamed: 15\n",
            "16  =  Unnamed: 16\n",
            "17  =  Unnamed: 17\n",
            "18  =  Unnamed: 18\n",
            "19  =  Unnamed: 19\n",
            "20  =  Unnamed: 20\n",
            "21  =  Unnamed: 21\n",
            "22  =  Unnamed: 22\n",
            "23  =  Unnamed: 23\n",
            "24  =  Properties of Interfaces\n",
            "25  =  Unnamed: 25\n",
            "26  =  Unnamed: 26\n",
            "27  =  Unnamed: 27\n",
            "28  =  Physical Properties of Matrix\n",
            "29  =  Unnamed: 29\n",
            "30  =  Unnamed: 30\n",
            "31  =  Unnamed: 31\n",
            "32  =  Unnamed: 32\n",
            "33  =  Unnamed: 33\n",
            "34  =  Unnamed: 34\n",
            "35  =  Unnamed: 35\n",
            "36  =  Unnamed: 36\n",
            "37  =  Unnamed: 37\n",
            "38  =  Unnamed: 38\n",
            "39  =  Unnamed: 39\n",
            "40  =  Properties of Reinforcement/Fiber\n",
            "41  =  Unnamed: 41\n",
            "42  =  Unnamed: 42\n",
            "43  =  Unnamed: 43\n",
            "44  =  Unnamed: 44\n",
            "45  =  Unnamed: 45\n",
            "46  =  Unnamed: 46\n",
            "47  =  Unnamed: 47\n",
            "48  =  Unnamed: 48\n",
            "49  =  Unnamed: 49\n",
            "50  =  Unnamed: 50\n",
            "51  =  Unnamed: 51\n",
            "52  =  Unnamed: 52\n",
            "53  =  Unnamed: 53\n",
            "54  =  Tensile Testing\n",
            "55  =  Unnamed: 55\n",
            "56  =  Unnamed: 56\n",
            "57  =  Unnamed: 57\n",
            "58  =  Unnamed: 58\n",
            "59  =  Unnamed: 59\n",
            "60  =  Unnamed: 60\n",
            "61  =  Unnamed: 61\n",
            "62  =  Unnamed: 62\n",
            "63  =  Unnamed: 63\n",
            "64  =  Unnamed: 64\n",
            "65  =  Unnamed: 65\n"
          ]
        }
      ],
      "source": [
        "# saving the feature names into a list\n",
        "f_name=list(df.columns)\n",
        "lenn=len(f_name)\n",
        "\n",
        "for i in range(0,lenn):\n",
        "    print(i, \" = \",f_name[i])"
      ]
    },
    {
      "cell_type": "code",
      "execution_count": 15,
      "metadata": {
        "colab": {
          "base_uri": "https://localhost:8080/"
        },
        "id": "rpNJj7TN0s0F",
        "outputId": "ec36f597-b99c-4d6d-f65e-5dcb76aeff13"
      },
      "outputs": [
        {
          "data": {
            "text/plain": [
              "(965, 66)"
            ]
          },
          "execution_count": 15,
          "metadata": {},
          "output_type": "execute_result"
        }
      ],
      "source": [
        "# checking the number of rows and columns\n",
        "df.shape"
      ]
    },
    {
      "cell_type": "code",
      "execution_count": 16,
      "metadata": {
        "colab": {
          "base_uri": "https://localhost:8080/"
        },
        "id": "uxeZ9Px708Ek",
        "outputId": "39bf8353-ceec-4093-830f-64f750662c46"
      },
      "outputs": [
        {
          "name": "stdout",
          "output_type": "stream",
          "text": [
            "<class 'pandas.core.frame.DataFrame'>\n",
            "RangeIndex: 965 entries, 0 to 964\n",
            "Data columns (total 66 columns):\n",
            " #   Column                             Non-Null Count  Dtype  \n",
            "---  ------                             --------------  -----  \n",
            " 0   /                                  27 non-null     object \n",
            " 1   Components and Methods             109 non-null    object \n",
            " 2   Unnamed: 2                         110 non-null    object \n",
            " 3   Unnamed: 3                         95 non-null     object \n",
            " 4   Unnamed: 4                         25 non-null     object \n",
            " 5   Unnamed: 5                         105 non-null    object \n",
            " 6   Unnamed: 6                         110 non-null    object \n",
            " 7   Unnamed: 7                         110 non-null    object \n",
            " 8   Unnamed: 8                         110 non-null    object \n",
            " 9   Unnamed: 9                         76 non-null     object \n",
            " 10  Unnamed: 10                        36 non-null     object \n",
            " 11  Unnamed: 11                        6 non-null      object \n",
            " 12  Unnamed: 12                        7 non-null      object \n",
            " 13  Unnamed: 13                        0 non-null      float64\n",
            " 14  Unnamed: 14                        5 non-null      object \n",
            " 15  Unnamed: 15                        9 non-null      object \n",
            " 16  Unnamed: 16                        106 non-null    object \n",
            " 17  Unnamed: 17                        21 non-null     object \n",
            " 18  Unnamed: 18                        111 non-null    object \n",
            " 19  Unnamed: 19                        67 non-null     object \n",
            " 20  Unnamed: 20                        29 non-null     object \n",
            " 21  Unnamed: 21                        6 non-null      object \n",
            " 22  Unnamed: 22                        6 non-null      object \n",
            " 23  Unnamed: 23                        6 non-null      object \n",
            " 24  Properties of Interfaces           102 non-null    object \n",
            " 25  Unnamed: 25                        68 non-null     object \n",
            " 26  Unnamed: 26                        47 non-null     object \n",
            " 27  Unnamed: 27                        2 non-null      object \n",
            " 28  Physical Properties of Matrix      77 non-null     object \n",
            " 29  Unnamed: 29                        44 non-null     object \n",
            " 30  Unnamed: 30                        10 non-null     object \n",
            " 31  Unnamed: 31                        51 non-null     object \n",
            " 32  Unnamed: 32                        7 non-null      object \n",
            " 33  Unnamed: 33                        1 non-null      object \n",
            " 34  Unnamed: 34                        29 non-null     object \n",
            " 35  Unnamed: 35                        13 non-null     object \n",
            " 36  Unnamed: 36                        14 non-null     object \n",
            " 37  Unnamed: 37                        14 non-null     object \n",
            " 38  Unnamed: 38                        15 non-null     object \n",
            " 39  Unnamed: 39                        3 non-null      object \n",
            " 40  Properties of Reinforcement/Fiber  83 non-null     object \n",
            " 41  Unnamed: 41                        13 non-null     object \n",
            " 42  Unnamed: 42                        51 non-null     object \n",
            " 43  Unnamed: 43                        105 non-null    object \n",
            " 44  Unnamed: 44                        9 non-null      object \n",
            " 45  Unnamed: 45                        87 non-null     object \n",
            " 46  Unnamed: 46                        81 non-null     object \n",
            " 47  Unnamed: 47                        20 non-null     object \n",
            " 48  Unnamed: 48                        5 non-null      object \n",
            " 49  Unnamed: 49                        34 non-null     object \n",
            " 50  Unnamed: 50                        81 non-null     object \n",
            " 51  Unnamed: 51                        12 non-null     object \n",
            " 52  Unnamed: 52                        2 non-null      object \n",
            " 53  Unnamed: 53                        3 non-null      object \n",
            " 54  Tensile Testing                    99 non-null     object \n",
            " 55  Unnamed: 55                        29 non-null     object \n",
            " 56  Unnamed: 56                        58 non-null     object \n",
            " 57  Unnamed: 57                        76 non-null     object \n",
            " 58  Unnamed: 58                        11 non-null     object \n",
            " 59  Unnamed: 59                        13 non-null     object \n",
            " 60  Unnamed: 60                        2 non-null      object \n",
            " 61  Unnamed: 61                        2 non-null      object \n",
            " 62  Unnamed: 62                        7 non-null      object \n",
            " 63  Unnamed: 63                        25 non-null     object \n",
            " 64  Unnamed: 64                        24 non-null     object \n",
            " 65  Unnamed: 65                        10 non-null     object \n",
            "dtypes: float64(1), object(65)\n",
            "memory usage: 497.7+ KB\n"
          ]
        }
      ],
      "source": [
        "# getting some information about the dataset\n",
        "df.info()"
      ]
    },
    {
      "cell_type": "code",
      "execution_count": 17,
      "metadata": {
        "id": "TAtNOiPQOzWU"
      },
      "outputs": [],
      "source": [
        "df=shuffle(df)"
      ]
    },
    {
      "cell_type": "code",
      "execution_count": null,
      "metadata": {
        "colab": {
          "base_uri": "https://localhost:8080/"
        },
        "id": "wZSbDnmM1O_V",
        "outputId": "c23e99c7-0da0-48a6-b483-2e858977141e"
      },
      "outputs": [],
      "source": [
        "# checking the number of missing values\n",
        "df.isnull().sum().sort_values(ascending=False)"
      ]
    },
    {
      "cell_type": "code",
      "execution_count": null,
      "metadata": {},
      "outputs": [],
      "source": [
        "df.shape"
      ]
    },
    {
      "cell_type": "code",
      "execution_count": null,
      "metadata": {},
      "outputs": [],
      "source": [
        "df = df.dropna(axis=0, how='any',subset=[\"Strength\"])"
      ]
    },
    {
      "cell_type": "code",
      "execution_count": null,
      "metadata": {},
      "outputs": [],
      "source": [
        "df.shape"
      ]
    },
    {
      "cell_type": "code",
      "execution_count": null,
      "metadata": {},
      "outputs": [],
      "source": [
        "df.isna().sum().sort_values(ascending=False)"
      ]
    },
    {
      "cell_type": "code",
      "execution_count": null,
      "metadata": {},
      "outputs": [],
      "source": [
        "df = df.drop(columns=['Fabrication Time', \n",
        "                      'Matrix Volume Fraction',\n",
        "                      'PyC',\n",
        "                      'BN',\n",
        "                      'SiC'\n",
        "                      ])"
      ]
    },
    {
      "cell_type": "code",
      "execution_count": null,
      "metadata": {},
      "outputs": [],
      "source": [
        "df.shape"
      ]
    },
    {
      "cell_type": "code",
      "execution_count": null,
      "metadata": {},
      "outputs": [],
      "source": [
        "df.columns"
      ]
    },
    {
      "cell_type": "code",
      "execution_count": null,
      "metadata": {
        "id": "b7WvJdmcOzWU"
      },
      "outputs": [],
      "source": [
        "# #dealing with the missing values\n",
        "# #mean\n",
        "# df.fillna(df.mean(), inplace=True)"
      ]
    },
    {
      "cell_type": "code",
      "execution_count": null,
      "metadata": {},
      "outputs": [],
      "source": [
        "df.isna().sum().sort_values(ascending=False)"
      ]
    },
    {
      "cell_type": "code",
      "execution_count": null,
      "metadata": {
        "id": "Fo8LmBITOzWU",
        "outputId": "727096cc-a41e-4139-86a1-8d3d30afdd58",
        "tags": []
      },
      "outputs": [],
      "source": [
        "plt.figure(figsize=(8, 8))\n",
        "plt.plot(df['Fiber Density'], df['Strength'], 'bo')\n"
      ]
    },
    {
      "cell_type": "code",
      "execution_count": null,
      "metadata": {
        "id": "10IHF4f0OzWV",
        "outputId": "9b57ebf8-5baf-4692-e448-7a505bcf243c",
        "tags": []
      },
      "outputs": [],
      "source": [
        "t=int(input(\"1 for mean, 2 for -1, 3 for KNeighborsRegressor: \"))\n",
        "if(t==1):\n",
        "    print(\"Opted for mean\\n\")\n",
        "    df.fillna(df.mean(),inplace=True)\n",
        "elif(t==2):\n",
        "    print(\"Opted for -1\\n\")\n",
        "    df.fillna(value=-1,inplace=True)\n",
        "else:\n",
        "    print(\"Opted for KNeighborsRegressor\\n\")\n",
        "    from sklearn.neighbors import KNeighborsRegressor\n",
        "\n",
        "# function that imputes a dataframe\n",
        "    def impute_knn(df):\n",
        "\n",
        "        ''' inputs: pandas df containing feature matrix '''\n",
        "        ''' outputs: dataframe with NaN imputed '''\n",
        "        # imputation with KNN unsupervised method\n",
        "\n",
        "        # separate dataframe into numerical/categorical\n",
        "        ldf = df.select_dtypes(include=[np.number])           # select numerical columns in df\n",
        "        ldf_putaside = df.select_dtypes(exclude=[np.number])  # select categorical columns in df\n",
        "        # define columns w/ and w/o missing data\n",
        "        cols_nan = ldf.columns[ldf.isna().any()].tolist()         # columns w/ nan\n",
        "        cols_no_nan = ldf.columns.difference(cols_nan).values     # columns w/o nan\n",
        "\n",
        "        for col in cols_nan:\n",
        "            imp_test = ldf[ldf[col].isna()]   # indicies which have missing data will become our test set\n",
        "            imp_train = ldf.dropna()          # all indicies which which have no missing data\n",
        "            model = KNeighborsRegressor(n_neighbors=5)  # KNR Unsupervised Approach\n",
        "            knr = model.fit(imp_train[cols_no_nan], imp_train[col])\n",
        "            ldf.loc[df[col].isna(), col] = knr.predict(imp_test[cols_no_nan])\n",
        "\n",
        "        return pd.concat([ldf,ldf_putaside],axis=1)\n",
        "    # Call function that imputes missing data\n",
        "    df = impute_knn(df)\n"
      ]
    },
    {
      "cell_type": "code",
      "execution_count": null,
      "metadata": {},
      "outputs": [],
      "source": [
        "df.isna().sum().sort_values(ascending=False)"
      ]
    },
    {
      "cell_type": "code",
      "execution_count": null,
      "metadata": {},
      "outputs": [],
      "source": [
        "df = df.dropna(axis=0, how='any',subset=[\"Overall Interphase thickness\"])"
      ]
    },
    {
      "cell_type": "code",
      "execution_count": null,
      "metadata": {},
      "outputs": [],
      "source": [
        "df.shape"
      ]
    },
    {
      "cell_type": "code",
      "execution_count": null,
      "metadata": {},
      "outputs": [],
      "source": [
        "df.to_csv('/Users/insomni_.ak/Documents/Machine Learning/GIAN_CMC/input/out.csv', index=False)  "
      ]
    },
    {
      "cell_type": "code",
      "execution_count": null,
      "metadata": {
        "id": "MQbdnkvOOzWV",
        "outputId": "b00a81d0-de8a-4019-ee3c-29d03989b3c3",
        "tags": []
      },
      "outputs": [],
      "source": [
        "plt.figure(figsize=(8, 8))\n",
        "plt.plot(df['Fiber Density'], df['Strength'], 'bo');"
      ]
    },
    {
      "cell_type": "markdown",
      "metadata": {
        "id": "P4or_mPhOzWV"
      },
      "source": [
        "### Correlation Before Adding more features for Solving Underfitting."
      ]
    },
    {
      "cell_type": "code",
      "execution_count": null,
      "metadata": {
        "id": "UKrv2jqoOzWV"
      },
      "outputs": [],
      "source": [
        "''' Function to plot correlation of features '''\n",
        "def corrMat(df,id=False):\n",
        "\n",
        "    corr_mat = df.corr().round(2)\n",
        "    f, ax = plt.subplots(figsize=(6,6))\n",
        "    mask = np.zeros_like(corr_mat,dtype=np.bool)\n",
        "    mask[np.triu_indices_from(mask)] = True\n",
        "    sns.heatmap(corr_mat,mask=mask,vmin=-1,vmax=1,center=0,\n",
        "                cmap='plasma',square=False,lw=2,annot=True,cbar=False);plt.show()"
      ]
    },
    {
      "cell_type": "code",
      "execution_count": null,
      "metadata": {
        "id": "RjnIGzsyOzWV",
        "outputId": "39329ff3-b56c-4d23-cc29-628b89322013"
      },
      "outputs": [],
      "source": [
        "corrMat(df)"
      ]
    },
    {
      "cell_type": "code",
      "execution_count": null,
      "metadata": {
        "id": "De4HiNu-OzWW"
      },
      "outputs": [],
      "source": []
    },
    {
      "cell_type": "markdown",
      "metadata": {
        "id": "tXmc0cUvOzWW",
        "tags": []
      },
      "source": [
        "### Solving Underfitting"
      ]
    },
    {
      "cell_type": "code",
      "execution_count": null,
      "metadata": {
        "id": "N2hHQcyPOzWW"
      },
      "outputs": [],
      "source": [
        "df['Fiber Radius-2']=df['Fiber Radius']*2+df['Fiber Radius']*3\n",
        "df['Fiber Volume Fractions-2']=df['Fiber Volume Fractions']*2+df['Fiber Radius-2']\n",
        "df['Fiber Volume Fractions-3']=df['Fiber Volume Fractions']*3+df['Fiber Radius-2']*2\n",
        "\n",
        "df['Fiber Modulus-2']=np.sqrt(df['Fiber Modulus'])"
      ]
    },
    {
      "cell_type": "code",
      "execution_count": null,
      "metadata": {
        "colab": {
          "base_uri": "https://localhost:8080/"
        },
        "id": "jKeM03IO1kSz",
        "outputId": "6d7a2650-d9d1-4b56-89cf-f5383c023756"
      },
      "outputs": [],
      "source": [
        "# checking the distribution of categorical data\n",
        "## checking for missing values\n",
        "df.isnull().sum()"
      ]
    },
    {
      "cell_type": "code",
      "execution_count": null,
      "metadata": {
        "id": "Z_H7cs2zOzWX"
      },
      "outputs": [],
      "source": []
    },
    {
      "cell_type": "code",
      "execution_count": null,
      "metadata": {
        "id": "n3322TEOOzWX"
      },
      "outputs": [],
      "source": [
        "f_name=list(df.columns)\n",
        "train=[x for i,x in enumerate(f_name) if i!=9]\n",
        "test=f_name[9]"
      ]
    },
    {
      "cell_type": "code",
      "execution_count": null,
      "metadata": {
        "id": "Yb1gPWdkOzWX",
        "outputId": "b358316b-c548-45c0-c045-3be793b8832d"
      },
      "outputs": [],
      "source": [
        "train\n",
        "test"
      ]
    },
    {
      "cell_type": "code",
      "execution_count": null,
      "metadata": {
        "id": "bKkgagtVOzWX",
        "outputId": "e77fa68f-b583-4ffd-c26a-389fa0fe2ec2"
      },
      "outputs": [],
      "source": [
        "df.head()"
      ]
    },
    {
      "cell_type": "code",
      "execution_count": null,
      "metadata": {
        "id": "NKOzoJeSOzWX"
      },
      "outputs": [],
      "source": [
        "#e\n",
        "\n",
        "\n"
      ]
    },
    {
      "cell_type": "markdown",
      "metadata": {
        "id": "ThB4buCNOzWY"
      },
      "source": [
        "### Distribution Plots"
      ]
    },
    {
      "cell_type": "code",
      "execution_count": null,
      "metadata": {
        "id": "PIQ4ZDunOzWY"
      },
      "outputs": [],
      "source": [
        "#features=[\"Interphase Code\",\"PyC\",\"SiC\",\"BN\",\"Overall Interphase thickness\",\"Fiber Density\",\"Fiber Volume Fractions\",\"Fabrication Temperature \"]"
      ]
    },
    {
      "cell_type": "code",
      "execution_count": null,
      "metadata": {
        "id": "hPhMNnGAOzWY",
        "outputId": "a3d764ee-e579-42fe-f10e-26049ef51b4c"
      },
      "outputs": [],
      "source": [
        "# distribution of strength value\n",
        "sns.set()\n",
        "plt.figure(figsize=(6,6))\n",
        "sns.distplot(df['Strength'])\n",
        "plt.title('Strength Distribution')\n",
        "plt.show()"
      ]
    },
    {
      "cell_type": "code",
      "execution_count": null,
      "metadata": {
        "id": "KDXxpkhlOzWY"
      },
      "outputs": [],
      "source": [
        "# # distribution of strength value\n",
        "# sns.set()\n",
        "# plt.figure(figsize=(6,6))\n",
        "# sns.distplot(df['Interphase Code'])\n",
        "# plt.title('Interphase Code')\n",
        "# plt.show()"
      ]
    },
    {
      "cell_type": "code",
      "execution_count": null,
      "metadata": {
        "id": "F92PicDBOzWY",
        "outputId": "4310f691-ef41-4e97-e0c6-c867279119f5"
      },
      "outputs": [],
      "source": [
        "# distribution of strength value\n",
        "sns.set()\n",
        "plt.figure(figsize=(6,6))\n",
        "sns.distplot(df['Fiber Density'])\n",
        "plt.title('Fiber Density')\n",
        "plt.show()"
      ]
    },
    {
      "cell_type": "code",
      "execution_count": null,
      "metadata": {
        "id": "7-JZV3FvOzWY",
        "outputId": "4740de53-9e27-44f3-d299-3b0ca6e6dd14"
      },
      "outputs": [],
      "source": [
        "# distribution of strength value\n",
        "sns.set()\n",
        "plt.figure(figsize=(6,6))\n",
        "sns.distplot(df['Fiber Volume Fractions'])\n",
        "plt.title('Fiber Volume Fractions')\n",
        "plt.show()"
      ]
    },
    {
      "cell_type": "code",
      "execution_count": null,
      "metadata": {
        "id": "sAVrNlG7OzWZ",
        "outputId": "d2ed60e5-b1b7-45fb-f037-a49b62509e83"
      },
      "outputs": [],
      "source": [
        "# distribution of strength value\n",
        "sns.set()\n",
        "plt.figure(figsize=(6,6))\n",
        "sns.distplot(df['Fabrication Temperature '])\n",
        "plt.title('Fabrication Temperature ')\n",
        "plt.show()"
      ]
    },
    {
      "cell_type": "code",
      "execution_count": null,
      "metadata": {
        "id": "cJcgmUVJOzWZ"
      },
      "outputs": [],
      "source": []
    },
    {
      "cell_type": "markdown",
      "metadata": {
        "id": "2P67SeNYOzWZ"
      },
      "source": [
        "# Add more features for Underfitting"
      ]
    },
    {
      "cell_type": "code",
      "execution_count": null,
      "metadata": {
        "id": "gMpibEPnOzWZ"
      },
      "outputs": [],
      "source": []
    },
    {
      "cell_type": "code",
      "execution_count": null,
      "metadata": {
        "id": "eZS_Rbk6OzWa"
      },
      "outputs": [],
      "source": []
    },
    {
      "cell_type": "code",
      "execution_count": null,
      "metadata": {
        "id": "vBVfGICZOzWa"
      },
      "outputs": [],
      "source": []
    },
    {
      "cell_type": "code",
      "execution_count": null,
      "metadata": {
        "id": "3OX28sGxOzWa"
      },
      "outputs": [],
      "source": []
    },
    {
      "cell_type": "code",
      "execution_count": null,
      "metadata": {
        "id": "VfEuHgrIOzWa"
      },
      "outputs": [],
      "source": []
    },
    {
      "cell_type": "code",
      "execution_count": null,
      "metadata": {
        "id": "yuXMyPHcOzWa"
      },
      "outputs": [],
      "source": []
    },
    {
      "cell_type": "code",
      "execution_count": null,
      "metadata": {
        "id": "OZRpFW3VOzWa"
      },
      "outputs": [],
      "source": []
    },
    {
      "cell_type": "markdown",
      "metadata": {
        "id": "VxzeLJqT2k1t"
      },
      "source": [
        "# Encoding the Categorical Data"
      ]
    },
    {
      "cell_type": "code",
      "execution_count": null,
      "metadata": {
        "id": "fNbLsAdU2LAA"
      },
      "outputs": [],
      "source": []
    },
    {
      "cell_type": "code",
      "execution_count": null,
      "metadata": {
        "id": "dR-puwbW3UZc"
      },
      "outputs": [],
      "source": []
    },
    {
      "cell_type": "markdown",
      "metadata": {
        "id": "oE7KYiD6OzWb"
      },
      "source": [
        "### Normalizing/Standardize the Interphase CODE"
      ]
    },
    {
      "cell_type": "code",
      "execution_count": null,
      "metadata": {
        "id": "VI44qTd0OzWb"
      },
      "outputs": [],
      "source": [
        "# #standardize\n",
        "# df['Interphase Code'] = (df['Interphase Code'] - df['Interphase Code'].mean()) / df['Interphase Code'].std()"
      ]
    },
    {
      "cell_type": "code",
      "execution_count": null,
      "metadata": {
        "id": "42NUxOMuOzWb"
      },
      "outputs": [],
      "source": [
        "# #Normalize\n",
        "# df['Interphase Code'] = df['Interphase Code'] /df['Interphase Code'].abs().max()\n"
      ]
    },
    {
      "cell_type": "markdown",
      "metadata": {
        "id": "f95fme-tOzWb"
      },
      "source": [
        "# Correlation"
      ]
    },
    {
      "cell_type": "code",
      "execution_count": null,
      "metadata": {
        "id": "78HFJMHSOzWb"
      },
      "outputs": [],
      "source": [
        "''' Function to plot correlation of features '''\n",
        "def corrMat(df,id=False):\n",
        "\n",
        "    corr_mat = df.corr().round(2)\n",
        "    f, ax = plt.subplots(figsize=(6,6))\n",
        "    mask = np.zeros_like(corr_mat,dtype=np.bool)\n",
        "    mask[np.triu_indices_from(mask)] = True\n",
        "    sns.heatmap(corr_mat,mask=mask,vmin=-1,vmax=1,center=0,\n",
        "                cmap='plasma',lw=2,annot=True,cbar=False);plt.show()"
      ]
    },
    {
      "cell_type": "code",
      "execution_count": null,
      "metadata": {
        "id": "WXylnOziOzWb",
        "outputId": "415c1344-2fe6-4ed2-b69d-0f93b8189ea8"
      },
      "outputs": [],
      "source": [
        "corrMat(df)"
      ]
    },
    {
      "cell_type": "markdown",
      "metadata": {
        "id": "d2AVNy1h3kni"
      },
      "source": [
        "# Splitting the data and Target"
      ]
    },
    {
      "cell_type": "code",
      "execution_count": null,
      "metadata": {
        "id": "Al86ID6XOzWc"
      },
      "outputs": [],
      "source": [
        "#features=[\"Interphase Code\",\"PyC\",\"SiC\",\"BN\",\"Overall Interphase thickness\",\"Fiber Density\",\"Fiber Volume Fractions\",\"Fabrication Temperature \"]"
      ]
    },
    {
      "cell_type": "code",
      "execution_count": null,
      "metadata": {
        "id": "F4jD1hNZOzWc"
      },
      "outputs": [],
      "source": [
        "# train=[\"PyC\",\"SiC\",\"BN\",\"Overall Interphase thickness\",\"Fiber Density\",\"Fiber Volume Fractions\",\"Fabrication Temperature \"]\n",
        "# test=[\"Strength\"]"
      ]
    },
    {
      "cell_type": "code",
      "execution_count": null,
      "metadata": {
        "id": "XHdzrIlV3baN"
      },
      "outputs": [],
      "source": [
        "X = df[train]\n",
        "Y = df[test]"
      ]
    },
    {
      "cell_type": "code",
      "execution_count": null,
      "metadata": {
        "id": "j4fTD8hSOzWc",
        "outputId": "ad2a990e-87de-4dab-936b-e6c025ce6c89"
      },
      "outputs": [],
      "source": [
        "train"
      ]
    },
    {
      "cell_type": "code",
      "execution_count": null,
      "metadata": {
        "colab": {
          "base_uri": "https://localhost:8080/"
        },
        "id": "vJKZIXOI4ISG",
        "outputId": "98334eff-bd58-4e61-ca4e-d0c18e820163"
      },
      "outputs": [],
      "source": [
        "print(X)"
      ]
    },
    {
      "cell_type": "code",
      "execution_count": null,
      "metadata": {
        "colab": {
          "base_uri": "https://localhost:8080/"
        },
        "id": "U5LIqrS54N9W",
        "outputId": "90503ffa-259e-4a61-a5c0-63cf3b544ae1"
      },
      "outputs": [],
      "source": [
        "print(Y)"
      ]
    },
    {
      "cell_type": "code",
      "execution_count": null,
      "metadata": {
        "id": "rwPkSVKZOzWc"
      },
      "outputs": [],
      "source": [
        "# Standardize the features\n",
        "X -= X.mean()\n",
        "X /= X.std()"
      ]
    },
    {
      "cell_type": "code",
      "execution_count": null,
      "metadata": {
        "id": "c5HsyAWWOzWc",
        "outputId": "ff38c209-3d7b-444c-efe3-4de801d2cdb4"
      },
      "outputs": [],
      "source": [
        "print(X)"
      ]
    },
    {
      "cell_type": "markdown",
      "metadata": {
        "id": "PwyWrbutOzWd"
      },
      "source": [
        "# Cross Validation"
      ]
    },
    {
      "cell_type": "code",
      "execution_count": null,
      "metadata": {
        "id": "dJZMPolmOzWd"
      },
      "outputs": [],
      "source": [
        "from sklearn.model_selection import cross_val_score"
      ]
    },
    {
      "cell_type": "code",
      "execution_count": null,
      "metadata": {
        "id": "gziGqtilOzWd"
      },
      "outputs": [],
      "source": [
        "lr=sum(cross_val_score(LinearRegression(),X,Y,cv=5))/5"
      ]
    },
    {
      "cell_type": "code",
      "execution_count": null,
      "metadata": {
        "id": "nsKc_blAOzWd"
      },
      "outputs": [],
      "source": [
        "rf=sum(cross_val_score(RandomForestRegressor(n_estimators=50),X,Y,cv=5))/5"
      ]
    },
    {
      "cell_type": "code",
      "execution_count": null,
      "metadata": {
        "id": "zEHXVfF4OzWd"
      },
      "outputs": [],
      "source": [
        "xg=sum(cross_val_score(XGB(),X,Y,cv=5))/5"
      ]
    },
    {
      "cell_type": "code",
      "execution_count": null,
      "metadata": {
        "id": "xfEhnfTcOzWd",
        "outputId": "bc6b3148-a8b2-4041-a38d-c874e50e51ea"
      },
      "outputs": [],
      "source": [
        "print(lr,rf,xg)"
      ]
    },
    {
      "cell_type": "code",
      "execution_count": null,
      "metadata": {
        "id": "yHUktM-_OzWd",
        "outputId": "6ea2c3b1-208f-4de1-ec04-6e3ce1fbfc6f"
      },
      "outputs": [],
      "source": [
        "print(\"Cross Validation Linear Regression = \",lr)"
      ]
    },
    {
      "cell_type": "code",
      "execution_count": null,
      "metadata": {
        "id": "teg1gP3wOzWd",
        "outputId": "2acc57fd-7d12-4a05-ad5a-e96b226a0bb7"
      },
      "outputs": [],
      "source": [
        "print(\"Cross Validation Random Forest = \",rf)"
      ]
    },
    {
      "cell_type": "raw",
      "metadata": {
        "id": "9U4gSBa7OzWe"
      },
      "source": [
        "print(\"Cross Validation XGB = \",xg)"
      ]
    },
    {
      "cell_type": "code",
      "execution_count": null,
      "metadata": {
        "id": "JcTS_qjQOzWe",
        "outputId": "8c41882d-ecb6-4d9c-a4cb-8b6b89d3e436"
      },
      "outputs": [],
      "source": [
        "print(\"Cross Validation XGB = \",xg)"
      ]
    },
    {
      "cell_type": "markdown",
      "metadata": {
        "id": "4gJhDcKfOzWe"
      },
      "source": [
        "# Parameter Tuning"
      ]
    },
    {
      "cell_type": "markdown",
      "metadata": {
        "id": "u5fYPAupOzWe"
      },
      "source": [
        "### For Random Forest Regressor"
      ]
    },
    {
      "cell_type": "code",
      "execution_count": null,
      "metadata": {
        "id": "lJNGXr-3OzWe"
      },
      "outputs": [],
      "source": [
        "k_max=-100\n",
        "n=1"
      ]
    },
    {
      "cell_type": "code",
      "execution_count": null,
      "metadata": {
        "id": "x9wW92xJOzWf"
      },
      "outputs": [],
      "source": [
        "for i in range(1,100):\n",
        "    l=(cross_val_score(RandomForestRegressor(n_estimators=i),X,Y,cv=5))\n",
        "    k=sum(l)/len(l)\n",
        "    if (k>k_max):\n",
        "        k_max=k\n",
        "        n=i"
      ]
    },
    {
      "cell_type": "code",
      "execution_count": null,
      "metadata": {
        "id": "GZvzv8VcOzWf",
        "outputId": "03191aac-3d0a-4e41-a696-09f1e9a7ba04"
      },
      "outputs": [],
      "source": [
        "print(n,k_max)"
      ]
    },
    {
      "cell_type": "code",
      "execution_count": null,
      "metadata": {
        "id": "wJ0fT7O4OzWf"
      },
      "outputs": [],
      "source": [
        "pt=sum(cross_val_score(RandomForestRegressor(n_estimators=22),X,Y,cv=5))/5"
      ]
    },
    {
      "cell_type": "code",
      "execution_count": null,
      "metadata": {
        "id": "LTrp4djEOzWf",
        "outputId": "33b0cba8-e5aa-473e-d86e-5766bd25d8e3"
      },
      "outputs": [],
      "source": [
        "print(\"Parameter Tuning = \",pt)"
      ]
    },
    {
      "cell_type": "code",
      "execution_count": null,
      "metadata": {
        "id": "OiFzZg5QOzWf"
      },
      "outputs": [],
      "source": []
    },
    {
      "cell_type": "markdown",
      "metadata": {
        "id": "w62e_VA84ZIS"
      },
      "source": [
        "# Splitting Training and Test data"
      ]
    },
    {
      "cell_type": "code",
      "execution_count": null,
      "metadata": {
        "id": "p2cYl_Nw4SQ3"
      },
      "outputs": [],
      "source": [
        "X_train, X_test, Y_train, Y_test = train_test_split(X, Y, test_size = 0.2, random_state=2)"
      ]
    },
    {
      "cell_type": "markdown",
      "metadata": {
        "id": "ocyzVLOc5K6D"
      },
      "source": [
        "# Model Training"
      ]
    },
    {
      "cell_type": "markdown",
      "metadata": {
        "id": "CTzEpu6F5M5A"
      },
      "source": [
        "## 1. Linear Regression"
      ]
    },
    {
      "cell_type": "code",
      "execution_count": null,
      "metadata": {
        "id": "iLqTMiKd5IWH"
      },
      "outputs": [],
      "source": [
        "# loading the linear regression model\n",
        "lin_reg_model = LinearRegression()"
      ]
    },
    {
      "cell_type": "code",
      "execution_count": null,
      "metadata": {
        "colab": {
          "base_uri": "https://localhost:8080/"
        },
        "id": "UWUCK59R5Z4X",
        "outputId": "c048a9d8-d932-4c0e-e504-8692234f399a"
      },
      "outputs": [],
      "source": [
        "lin_reg_model.fit(X_train,Y_train)"
      ]
    },
    {
      "cell_type": "markdown",
      "metadata": {
        "id": "XB7PuuTM5nu_"
      },
      "source": [
        "### Model Evaluation"
      ]
    },
    {
      "cell_type": "code",
      "execution_count": null,
      "metadata": {
        "id": "u8Wu4xMD5iW8"
      },
      "outputs": [],
      "source": [
        "\n",
        "# prediction on Training data\n",
        "training_data_prediction = lin_reg_model.predict(X_train)"
      ]
    },
    {
      "cell_type": "code",
      "execution_count": null,
      "metadata": {
        "colab": {
          "base_uri": "https://localhost:8080/"
        },
        "id": "JdHP3HWx528E",
        "outputId": "e23daf2c-458e-48cf-989f-a7d06041dd6c"
      },
      "outputs": [],
      "source": [
        "# R squared Error\n",
        "error_score = metrics.r2_score(Y_train, training_data_prediction)\n",
        "print(\"R squared Error : \", error_score)"
      ]
    },
    {
      "cell_type": "markdown",
      "metadata": {
        "id": "b3RfnkFq6jrH"
      },
      "source": [
        "#### Visualize the actual Strength and Predicted Strength"
      ]
    },
    {
      "cell_type": "code",
      "execution_count": null,
      "metadata": {
        "colab": {
          "base_uri": "https://localhost:8080/",
          "height": 295
        },
        "id": "5jukF7Vc6P48",
        "outputId": "0f2f1c40-8bc8-45a9-baba-063f57f25255"
      },
      "outputs": [],
      "source": [
        "plt.scatter(Y_train, training_data_prediction)\n",
        "plt.xlabel(\"Actual Strength\")\n",
        "plt.ylabel(\"Predicted Strength\")\n",
        "plt.title(\" Actual Strength vs Predicted Strength\")\n",
        "plt.show()"
      ]
    },
    {
      "cell_type": "code",
      "execution_count": null,
      "metadata": {
        "id": "BHvWkJybOzWg"
      },
      "outputs": [],
      "source": [
        "Y_train = list(Y_train)"
      ]
    },
    {
      "cell_type": "code",
      "execution_count": null,
      "metadata": {
        "id": "9M-Vl-cnOzWh",
        "outputId": "28442bc8-2c6c-449e-a2aa-894a8f2ae14f"
      },
      "outputs": [],
      "source": [
        "plt.plot(Y_train, color='blue', label = 'Actual Value')\n",
        "plt.plot(training_data_prediction, color='green', label='Predicted Value')\n",
        "plt.legend()\n",
        "plt.show()"
      ]
    },
    {
      "cell_type": "code",
      "execution_count": null,
      "metadata": {
        "id": "iJUq-DiM69fn"
      },
      "outputs": [],
      "source": [
        "# prediction on Test data\n",
        "test_data_prediction = lin_reg_model.predict(X_test)"
      ]
    },
    {
      "cell_type": "code",
      "execution_count": null,
      "metadata": {
        "colab": {
          "base_uri": "https://localhost:8080/"
        },
        "id": "e9h4glEM7XJ1",
        "outputId": "d324a59e-2a15-425a-9782-27581d096953"
      },
      "outputs": [],
      "source": [
        "# R squared Error\n",
        "error_score = metrics.r2_score(Y_test, test_data_prediction)\n",
        "print(\"R squared Error : \", error_score)"
      ]
    },
    {
      "cell_type": "code",
      "execution_count": null,
      "metadata": {
        "colab": {
          "base_uri": "https://localhost:8080/",
          "height": 295
        },
        "id": "0yP0uxcr7gUE",
        "outputId": "c9d00f7f-f3cd-48b5-bf7c-7f4cde9c8409"
      },
      "outputs": [],
      "source": [
        "plt.scatter(Y_test, test_data_prediction)\n",
        "plt.xlabel(\"Actual Strength\")\n",
        "plt.ylabel(\"Predicted Strength\")\n",
        "plt.title(\" Actual Strength vs Predicted Strength\")\n",
        "plt.show()"
      ]
    },
    {
      "cell_type": "code",
      "execution_count": null,
      "metadata": {
        "id": "oaIVYQPnOzWj"
      },
      "outputs": [],
      "source": [
        "Y_test = list(Y_test)"
      ]
    },
    {
      "cell_type": "code",
      "execution_count": null,
      "metadata": {
        "id": "27izJKFfOzWj",
        "outputId": "f20baad0-ee55-4d1e-a8d1-76805eac0f28"
      },
      "outputs": [],
      "source": [
        "plt.plot(Y_test, color='blue', label = 'Actual Value')\n",
        "plt.plot(test_data_prediction, color='green', label='Predicted Value')\n",
        "plt.legend()\n",
        "plt.show()"
      ]
    },
    {
      "cell_type": "markdown",
      "metadata": {
        "id": "flNiLHUZ78Mb"
      },
      "source": [
        "## 2. Lasso Regression -- L1 Regularization"
      ]
    },
    {
      "cell_type": "code",
      "execution_count": null,
      "metadata": {
        "id": "govWJZHc8H4J"
      },
      "outputs": [],
      "source": [
        "# loading the linear regression model\n",
        "lass_reg_model = Lasso()"
      ]
    },
    {
      "cell_type": "code",
      "execution_count": null,
      "metadata": {
        "colab": {
          "base_uri": "https://localhost:8080/"
        },
        "id": "N0HnZA1x8H4s",
        "outputId": "0563b757-843e-4cff-b393-56ccf43418c3"
      },
      "outputs": [],
      "source": [
        "lass_reg_model.fit(X_train,Y_train)"
      ]
    },
    {
      "cell_type": "markdown",
      "metadata": {
        "id": "Lc9Fljj68H46"
      },
      "source": [
        "### Model Evaluation"
      ]
    },
    {
      "cell_type": "code",
      "execution_count": null,
      "metadata": {
        "id": "mkcC344U8H48"
      },
      "outputs": [],
      "source": [
        "# prediction on Training data\n",
        "training_data_prediction = lass_reg_model.predict(X_train)"
      ]
    },
    {
      "cell_type": "code",
      "execution_count": null,
      "metadata": {
        "colab": {
          "base_uri": "https://localhost:8080/"
        },
        "id": "D4HRAQMd8H4_",
        "outputId": "0c76d006-ee5c-49f4-c972-74457403537f"
      },
      "outputs": [],
      "source": [
        "# R squared Error\n",
        "error_score = metrics.r2_score(Y_train, training_data_prediction)\n",
        "print(\"R squared Error : \", error_score)"
      ]
    },
    {
      "cell_type": "markdown",
      "metadata": {
        "id": "kRo68z988H5B"
      },
      "source": [
        "### Visualize the actual Strength and Predicted Strength"
      ]
    },
    {
      "cell_type": "code",
      "execution_count": null,
      "metadata": {
        "colab": {
          "base_uri": "https://localhost:8080/",
          "height": 295
        },
        "id": "kXjzFcgu8H5C",
        "outputId": "4be3ccde-18ef-41e1-905e-49c46a7001c2"
      },
      "outputs": [],
      "source": [
        "plt.scatter(Y_train, training_data_prediction)\n",
        "plt.xlabel(\"Actual Price\")\n",
        "plt.ylabel(\"Predicted Price\")\n",
        "plt.title(\" Actual Prices vs Predicted Prices\")\n",
        "plt.show()"
      ]
    },
    {
      "cell_type": "code",
      "execution_count": null,
      "metadata": {
        "id": "pHXUgmyt8H5E"
      },
      "outputs": [],
      "source": [
        "# prediction on Training data\n",
        "test_data_prediction = lass_reg_model.predict(X_test)"
      ]
    },
    {
      "cell_type": "code",
      "execution_count": null,
      "metadata": {
        "colab": {
          "base_uri": "https://localhost:8080/"
        },
        "id": "ctVd_TB48H5E",
        "outputId": "36e3e0ba-ba3e-4e0a-a4a9-643cc9ab4c18"
      },
      "outputs": [],
      "source": [
        "# R squared Error\n",
        "error_score = metrics.r2_score(Y_test, test_data_prediction)\n",
        "print(\"R squared Error : \", error_score)"
      ]
    },
    {
      "cell_type": "code",
      "execution_count": null,
      "metadata": {
        "colab": {
          "base_uri": "https://localhost:8080/",
          "height": 295
        },
        "id": "W_iX2Ctv8H5F",
        "outputId": "dbe14e77-7b98-4946-ec57-2b95035d6eab"
      },
      "outputs": [],
      "source": [
        "plt.scatter(Y_test, test_data_prediction)\n",
        "plt.xlabel(\"Actual Strength\")\n",
        "plt.ylabel(\"Predicted Strength\")\n",
        "plt.title(\" Actual Strength vs Predicted Strength\")\n",
        "plt.show()"
      ]
    },
    {
      "cell_type": "markdown",
      "metadata": {
        "id": "YUasAsqI8g49"
      },
      "source": [
        "## 3. XGBoost Regressor"
      ]
    },
    {
      "cell_type": "code",
      "execution_count": null,
      "metadata": {
        "id": "I7O-CxRUOzWm"
      },
      "outputs": [],
      "source": [
        "# loading the model\n",
        "model = XGB()"
      ]
    },
    {
      "cell_type": "code",
      "execution_count": null,
      "metadata": {
        "id": "O6aMcxpiOzWm",
        "outputId": "4e977b8f-4b12-4443-f569-153e02f5a045"
      },
      "outputs": [],
      "source": [
        "# training the model with X_train\n",
        "model.fit(X_train,Y_train)"
      ]
    },
    {
      "cell_type": "markdown",
      "metadata": {
        "id": "O3tDKJhaOzWm"
      },
      "source": [
        "### Evaluation"
      ]
    },
    {
      "cell_type": "markdown",
      "metadata": {
        "id": "Xv4GBZv0OzWm"
      },
      "source": [
        "#### Prediction on train data"
      ]
    },
    {
      "cell_type": "code",
      "execution_count": null,
      "metadata": {
        "id": "h4vvrExqOzWn"
      },
      "outputs": [],
      "source": [
        "# accuracy for prediction on training data\n",
        "training_data_prediction = model.predict(X_train)"
      ]
    },
    {
      "cell_type": "code",
      "execution_count": null,
      "metadata": {
        "id": "y2USSrf5OzWn",
        "outputId": "ccba0f6c-f2b8-4b45-8e19-de6584366d98"
      },
      "outputs": [],
      "source": [
        "print(training_data_prediction)"
      ]
    },
    {
      "cell_type": "code",
      "execution_count": null,
      "metadata": {
        "id": "q1iet85MOzWn",
        "outputId": "1f0783db-1482-4a83-d0b5-45f41de48cd1"
      },
      "outputs": [],
      "source": [
        "# R squared error\n",
        "score_1 = metrics.r2_score(Y_train, training_data_prediction)\n",
        "\n",
        "# Mean Absolute Error\n",
        "score_2 = metrics.mean_absolute_error(Y_train, training_data_prediction)\n",
        "\n",
        "print(\"R squared error : \", score_1)\n",
        "print('Mean Absolute Error : ', score_2)\n"
      ]
    },
    {
      "cell_type": "code",
      "execution_count": null,
      "metadata": {
        "id": "RUz3pZl4OzWn",
        "outputId": "d1b92048-1ca9-4f14-cd7e-285b7416ab82"
      },
      "outputs": [],
      "source": [
        "plt.scatter(Y_train, training_data_prediction)\n",
        "plt.xlabel(\"Actual Strength\")\n",
        "plt.ylabel(\"Predicted Strength\")\n",
        "plt.title(\"Actual Strength vs Predicted Strength\")\n",
        "plt.show()"
      ]
    },
    {
      "cell_type": "code",
      "execution_count": null,
      "metadata": {
        "id": "EpG9PDSJOzWn",
        "outputId": "f4a8eb7d-d1dd-4a2e-8f6c-3a887764fde2"
      },
      "outputs": [],
      "source": [
        "Y_train = list(Y_train)\n",
        "plt.plot(Y_train, color='blue', label = 'Actual Value')\n",
        "plt.plot(training_data_prediction, color='green', label='Predicted Value')\n",
        "plt.legend()\n",
        "plt.show()"
      ]
    },
    {
      "cell_type": "markdown",
      "metadata": {
        "id": "GULw-4qIOzWo"
      },
      "source": [
        "#### Prediction on Test Data"
      ]
    },
    {
      "cell_type": "code",
      "execution_count": null,
      "metadata": {
        "id": "7z1UiCu9OzWo"
      },
      "outputs": [],
      "source": [
        "# accuracy for prediction on test data\n",
        "test_data_prediction = model.predict(X_test)"
      ]
    },
    {
      "cell_type": "code",
      "execution_count": null,
      "metadata": {
        "id": "2sRtGhyAOzWp",
        "outputId": "64983a97-a4ac-4d3b-ae2a-53bb47934b2d"
      },
      "outputs": [],
      "source": [
        "# R squared error\n",
        "score_1 = metrics.r2_score(Y_test, test_data_prediction)\n",
        "\n",
        "# Mean Absolute Error\n",
        "score_2 = math.sqrt(metrics.mean_squared_error(Y_test, test_data_prediction))\n",
        "\n",
        "print(\"R squared error : \", score_1)\n",
        "print('Mean Squared Error : ', score_2)"
      ]
    },
    {
      "cell_type": "code",
      "execution_count": null,
      "metadata": {
        "id": "J3NF2EcVOzWp",
        "outputId": "3aeebee2-288a-4d4e-a139-a3cc9d4e21c3"
      },
      "outputs": [],
      "source": [
        "plt.scatter(Y_test, test_data_prediction)\n",
        "plt.xlabel(\"Actual Strength\")\n",
        "plt.ylabel(\"Predicted Strength\")\n",
        "plt.title(\"Actual Strength vs Predicted Strength\")\n",
        "plt.show()"
      ]
    },
    {
      "cell_type": "code",
      "execution_count": null,
      "metadata": {
        "id": "sAT4YvbPOzWp",
        "outputId": "56bb33f2-7652-40c9-95a9-a2f37c370c09"
      },
      "outputs": [],
      "source": [
        "Y_test = list(Y_test)\n",
        "plt.plot(Y_test, color='blue', label = 'Actual Value')\n",
        "plt.plot(test_data_prediction, color='green', label='Predicted Value')\n",
        "plt.legend()\n",
        "plt.show()"
      ]
    },
    {
      "cell_type": "markdown",
      "metadata": {
        "id": "5XAm-lITOzWp"
      },
      "source": [
        "## 4. Random Forest Regressor"
      ]
    },
    {
      "cell_type": "code",
      "execution_count": null,
      "metadata": {
        "id": "XD2H_H6GOzWp"
      },
      "outputs": [],
      "source": [
        "regressor = RandomForestRegressor(n_estimators=100)"
      ]
    },
    {
      "cell_type": "code",
      "execution_count": null,
      "metadata": {
        "id": "MYnHRIVLOzWp",
        "outputId": "a60def6a-560f-4c9a-a051-d1daa9dcd2dc"
      },
      "outputs": [],
      "source": [
        "# training the model\n",
        "regressor.fit(X_train,Y_train)"
      ]
    },
    {
      "cell_type": "markdown",
      "metadata": {
        "id": "Gt4WaHpGOzWp"
      },
      "source": [
        "### Evaluation"
      ]
    },
    {
      "cell_type": "markdown",
      "metadata": {
        "id": "aLPiBvFSOzWp"
      },
      "source": [
        "#### Prediction on Train Data"
      ]
    },
    {
      "cell_type": "code",
      "execution_count": null,
      "metadata": {
        "id": "-p7nlPdMOzWp"
      },
      "outputs": [],
      "source": [
        "# prediction on Train Data\n",
        "train_data_prediction = regressor.predict(X_train)"
      ]
    },
    {
      "cell_type": "code",
      "execution_count": null,
      "metadata": {
        "id": "BIm1u9OlOzWp",
        "outputId": "78a18113-acf7-4329-dbeb-23d820cf6a08"
      },
      "outputs": [],
      "source": [
        "print(train_data_prediction)"
      ]
    },
    {
      "cell_type": "code",
      "execution_count": null,
      "metadata": {
        "id": "ymH0xYKgOzWp",
        "outputId": "8e8e8091-025a-4083-ed3a-771d67b61166"
      },
      "outputs": [],
      "source": [
        "# R squared error\n",
        "error_score = metrics.r2_score(Y_train, train_data_prediction)\n",
        "print(\"R squared error : \", error_score)"
      ]
    },
    {
      "cell_type": "markdown",
      "metadata": {
        "id": "G8VF5KSLOzWp"
      },
      "source": [
        "#### Prediction on Test Data"
      ]
    },
    {
      "cell_type": "code",
      "execution_count": null,
      "metadata": {
        "id": "2quWoRYBOzWq"
      },
      "outputs": [],
      "source": [
        "# prediction on Test Data\n",
        "test_data_prediction = regressor.predict(X_test)"
      ]
    },
    {
      "cell_type": "code",
      "execution_count": null,
      "metadata": {
        "id": "PNCGpOkCOzWq",
        "outputId": "dc366852-2bc5-4900-b905-6dfd132cc910"
      },
      "outputs": [],
      "source": [
        "print(test_data_prediction)"
      ]
    },
    {
      "cell_type": "code",
      "execution_count": null,
      "metadata": {
        "id": "b3V2xM9jOzWq",
        "outputId": "ab05eccb-dfb4-432b-b252-04ce217ddcbf"
      },
      "outputs": [],
      "source": [
        "# R squared error\n",
        "error_score2 = metrics.r2_score(Y_test, test_data_prediction)\n",
        "print(\"R squared error : \", error_score2)"
      ]
    },
    {
      "cell_type": "markdown",
      "metadata": {
        "id": "GzqgW9nzOzWq"
      },
      "source": [
        "#### Compare the Actual Values and Predicted Values in a Plot"
      ]
    },
    {
      "cell_type": "code",
      "execution_count": null,
      "metadata": {
        "id": "GPYG7DZtOzWq",
        "outputId": "06159aaf-c236-4e82-e1c3-ae607a78f29f"
      },
      "outputs": [],
      "source": [
        "plt.scatter(Y_train, train_data_prediction)\n",
        "plt.xlabel(\"Actual Strength\")\n",
        "plt.ylabel(\"Predicted Strength\")\n",
        "plt.title(\"Actual Strength vs Predicted Strength\")\n",
        "plt.show()"
      ]
    },
    {
      "cell_type": "code",
      "execution_count": null,
      "metadata": {
        "id": "lmttjTOwOzWq",
        "outputId": "8d40170b-3700-41d4-eae2-5b130130c811"
      },
      "outputs": [],
      "source": [
        "Y_train = list(Y_train)\n",
        "plt.plot(Y_train, color='blue', label = 'Actual Value')\n",
        "plt.plot(train_data_prediction, color='green', label='Predicted Value')\n",
        "plt.legend()\n",
        "plt.show()"
      ]
    },
    {
      "cell_type": "code",
      "execution_count": null,
      "metadata": {
        "id": "sS9bLf05OzWr",
        "outputId": "101a3270-bcc7-483e-9099-8f08335adf29"
      },
      "outputs": [],
      "source": [
        "plt.scatter(Y_test, test_data_prediction)\n",
        "plt.xlabel(\"Actual Strength\")\n",
        "plt.ylabel(\"Predicted Strength\")\n",
        "plt.title(\"Actual Strength vs Predicted Strength\")\n",
        "plt.show()"
      ]
    },
    {
      "cell_type": "code",
      "execution_count": null,
      "metadata": {
        "id": "0tDzMGM4OzWr",
        "outputId": "88dbad7a-5b6e-4ba3-e5d1-eb127567922f"
      },
      "outputs": [],
      "source": [
        "Y_test = list(Y_test)\n",
        "plt.plot(Y_test, color='blue', label = 'Actual Value')\n",
        "plt.plot(test_data_prediction, color='green', label='Predicted Value')\n",
        "plt.legend()\n",
        "plt.show()"
      ]
    },
    {
      "cell_type": "markdown",
      "metadata": {
        "id": "SvKYoWNAOzWr"
      },
      "source": []
    },
    {
      "cell_type": "code",
      "execution_count": null,
      "metadata": {
        "id": "djbSNpbjOzWs"
      },
      "outputs": [],
      "source": []
    },
    {
      "cell_type": "markdown",
      "metadata": {
        "id": "WIqDHK1GOzWs"
      },
      "source": [
        "# 5. Multiple Linear Regression using PyMC 3.0"
      ]
    },
    {
      "cell_type": "code",
      "execution_count": null,
      "metadata": {
        "id": "NR3PLwNqOzWs"
      },
      "outputs": [],
      "source": [
        "X_mean = X.mean(axis=0)"
      ]
    },
    {
      "cell_type": "code",
      "execution_count": null,
      "metadata": {
        "id": "Uwo5aFVrOzWs"
      },
      "outputs": [],
      "source": [
        "#X.mean?"
      ]
    },
    {
      "cell_type": "code",
      "execution_count": null,
      "metadata": {
        "id": "U2wzFA1eOzWs"
      },
      "outputs": [],
      "source": [
        "X_centered = X - X_mean"
      ]
    },
    {
      "cell_type": "code",
      "execution_count": null,
      "metadata": {
        "id": "d-zbL64OOzWs"
      },
      "outputs": [],
      "source": [
        "with pm.Model() as model_mlr:\n",
        "    α_tmp = pm.Normal('α_tmp', mu=0, sd=2) # Try changing the prior distribution\n",
        "    β = pm.Normal('β', mu=0, sd=5, shape=15) # Note the shape of beta\n",
        "    ϵ = pm.HalfCauchy('ϵ', 5)\n",
        "\n",
        "    #likelihood\n",
        "    μ = α_tmp + pm.math.dot(X_centered, β)\n",
        "    α = pm.Deterministic('α', α_tmp - pm.math.dot(X_mean, β))\n",
        "    y_pred = pm.Normal('y_pred', mu=μ, sd=ϵ, observed=Y)\n",
        "    #inference\n",
        "    trace = pm.sample(50, tune=20)\n",
        "\n",
        "az.summary(trace)"
      ]
    },
    {
      "cell_type": "code",
      "execution_count": null,
      "metadata": {
        "id": "eV-iAukkOzWs"
      },
      "outputs": [],
      "source": []
    },
    {
      "cell_type": "code",
      "execution_count": null,
      "metadata": {
        "id": "mQgMGSyFOzWs"
      },
      "outputs": [],
      "source": []
    },
    {
      "cell_type": "code",
      "execution_count": null,
      "metadata": {
        "id": "95gCaYtfOzWs"
      },
      "outputs": [],
      "source": []
    },
    {
      "cell_type": "code",
      "execution_count": null,
      "metadata": {
        "id": "T003IdoKOzWt"
      },
      "outputs": [],
      "source": []
    },
    {
      "cell_type": "code",
      "execution_count": null,
      "metadata": {
        "id": "ARvbw45pOzWt"
      },
      "outputs": [],
      "source": []
    },
    {
      "cell_type": "code",
      "execution_count": null,
      "metadata": {
        "id": "VFxU351HOzWt"
      },
      "outputs": [],
      "source": []
    },
    {
      "cell_type": "code",
      "execution_count": null,
      "metadata": {
        "id": "cns93xm1OzWt"
      },
      "outputs": [],
      "source": []
    },
    {
      "cell_type": "markdown",
      "metadata": {
        "id": "5Tw2zISOOzWt"
      },
      "source": [
        "### Lets shuffle for like 1000 times"
      ]
    },
    {
      "cell_type": "code",
      "execution_count": null,
      "metadata": {
        "id": "P_GJlnmnOzWt"
      },
      "outputs": [],
      "source": [
        "lr=[]\n",
        "rf=[]\n",
        "xg=[]\n",
        "for i in range(0,100):\n",
        "    df=shuffle(df)\n",
        "    lr.append(sum(cross_val_score(LinearRegression(),X,Y,cv=5))/5)\n",
        "    rf.append(sum(cross_val_score(RandomForestRegressor(n_estimators=4),X,Y,cv=5))/5)\n",
        "    xg.append(sum(cross_val_score(XGB(),X,Y,cv=5))/5)\n",
        "\n",
        "\n",
        "\n",
        "\n"
      ]
    },
    {
      "cell_type": "code",
      "execution_count": null,
      "metadata": {
        "id": "KTNiwziqOzWt"
      },
      "outputs": [],
      "source": [
        "print(sum(lr)/len(lr))"
      ]
    },
    {
      "cell_type": "code",
      "execution_count": null,
      "metadata": {
        "id": "pLx6qD0pOzWt"
      },
      "outputs": [],
      "source": [
        "print(sum(rf)/len(rf))"
      ]
    },
    {
      "cell_type": "code",
      "execution_count": null,
      "metadata": {
        "id": "lf2i8YDqOzWt"
      },
      "outputs": [],
      "source": [
        "print(sum(xg)/len(xg))"
      ]
    },
    {
      "cell_type": "code",
      "execution_count": null,
      "metadata": {
        "id": "_bk526nYOzWt"
      },
      "outputs": [],
      "source": []
    },
    {
      "cell_type": "code",
      "execution_count": null,
      "metadata": {
        "id": "DOstQfFsOzWt"
      },
      "outputs": [],
      "source": []
    },
    {
      "cell_type": "code",
      "execution_count": null,
      "metadata": {
        "id": "E8jRatLUOzWt"
      },
      "outputs": [],
      "source": []
    },
    {
      "cell_type": "code",
      "execution_count": null,
      "metadata": {
        "id": "Y8svRmICOzWu"
      },
      "outputs": [],
      "source": []
    },
    {
      "cell_type": "code",
      "execution_count": null,
      "metadata": {
        "id": "EXTVAzB_OzW2"
      },
      "outputs": [],
      "source": []
    },
    {
      "cell_type": "markdown",
      "metadata": {
        "id": "JCZA_9QsOzW2"
      },
      "source": [
        "# ANN"
      ]
    },
    {
      "cell_type": "code",
      "execution_count": null,
      "metadata": {
        "id": "KcuDSMBhOzW2"
      },
      "outputs": [],
      "source": [
        "import numpy as np\n",
        "import pandas as pd\n",
        "import tensorflow as tf"
      ]
    },
    {
      "cell_type": "code",
      "execution_count": null,
      "metadata": {
        "id": "M4TXuUkROzW2"
      },
      "outputs": [],
      "source": [
        "from sklearn.model_selection import train_test_split\n",
        "X_train, X_test, y_train, y_test = train_test_split(X, Y, test_size = 0.2, shuffle=True)\n",
        "X_train, X_val, y_train, y_val = train_test_split(X_train,y_train, test_size = 0.2, shuffle=True)"
      ]
    },
    {
      "cell_type": "code",
      "execution_count": null,
      "metadata": {
        "id": "Y42R4qDwOzW2"
      },
      "outputs": [],
      "source": []
    },
    {
      "cell_type": "code",
      "execution_count": null,
      "metadata": {
        "id": "0y4mTZYLOzW2"
      },
      "outputs": [],
      "source": [
        "ann = tf.keras.models.Sequential()"
      ]
    },
    {
      "cell_type": "code",
      "execution_count": null,
      "metadata": {
        "id": "elMSWbdtOzW2"
      },
      "outputs": [],
      "source": [
        "ann.add(tf.keras.layers.Dense(units=100, activation='relu'))"
      ]
    },
    {
      "cell_type": "code",
      "execution_count": null,
      "metadata": {
        "id": "5YCJV4wtOzW3"
      },
      "outputs": [],
      "source": [
        "ann.add(tf.keras.layers.Dense(units=100, activation='relu'))"
      ]
    },
    {
      "cell_type": "code",
      "execution_count": null,
      "metadata": {
        "id": "XCx8l3tUOzW3"
      },
      "outputs": [],
      "source": [
        "ann.add(tf.keras.layers.Dense(units=1, activation='relu'))"
      ]
    },
    {
      "cell_type": "code",
      "execution_count": null,
      "metadata": {
        "id": "qi57jF6rOzW3"
      },
      "outputs": [],
      "source": []
    },
    {
      "cell_type": "code",
      "execution_count": null,
      "metadata": {
        "id": "QXFG6hn8OzW3"
      },
      "outputs": [],
      "source": []
    },
    {
      "cell_type": "code",
      "execution_count": null,
      "metadata": {
        "id": "hrbbQymgOzW3"
      },
      "outputs": [],
      "source": []
    },
    {
      "cell_type": "code",
      "execution_count": null,
      "metadata": {
        "id": "14H-mfQfOzW3"
      },
      "outputs": [],
      "source": [
        "ann.compile(optimizer = 'adam', loss = 'mean_squared_error',metrics=['MeanSquaredLogarithmicError'])"
      ]
    },
    {
      "cell_type": "code",
      "execution_count": null,
      "metadata": {
        "id": "B7dC_NX5OzW3",
        "tags": []
      },
      "outputs": [],
      "source": [
        "model = ann.fit(X_train, y_train, batch_size = 16, epochs = 1000,validation_data=(X_val, y_val),\n",
        "              shuffle=True)"
      ]
    },
    {
      "cell_type": "code",
      "execution_count": null,
      "metadata": {
        "id": "HeIfFhxFOzW3"
      },
      "outputs": [],
      "source": [
        "y_pred_train=ann.predict(X_train)\n",
        "np.set_printoptions(precision=2)\n",
        "print(np.concatenate((y_pred_train.reshape(len(y_pred_train),1), y_train.values.reshape(len(y_train),1)),1))"
      ]
    },
    {
      "cell_type": "code",
      "execution_count": null,
      "metadata": {
        "id": "hw4atTW_OzW3"
      },
      "outputs": [],
      "source": [
        "import sklearn.metrics\n",
        "evs_no=sklearn.metrics.explained_variance_score(y_train,ann.predict(X_train))\n",
        "me_no=sklearn.metrics.max_error(y_train,ann.predict(X_train))\n",
        "mae_no=sklearn.metrics.mean_absolute_error(y_train,ann.predict(X_train))\n",
        "mse_no=sklearn.metrics.mean_squared_error(y_train,ann.predict(X_train))\n",
        "msle_no=sklearn.metrics.mean_squared_log_error(y_train,ann.predict(X_train))\n",
        "Mae_no=sklearn.metrics.median_absolute_error(y_train,ann.predict(X_train))\n",
        "r2_no=sklearn.metrics.r2_score(y_train,ann.predict(X_train))\n",
        "mpd_no=sklearn.metrics.mean_poisson_deviance(y_train,ann.predict(X_train))\n",
        "mgd_no=sklearn.metrics.mean_gamma_deviance(y_train,ann.predict(X_train))\n",
        "mtd_no=sklearn.metrics.mean_tweedie_deviance(y_train,ann.predict(X_train))"
      ]
    },
    {
      "cell_type": "code",
      "execution_count": null,
      "metadata": {
        "id": "Df15cWikOzW3"
      },
      "outputs": [],
      "source": [
        "print('Explained Variance Score:',evs_no)\n",
        "print('Max Error               :',me_no)\n",
        "print('Mean Absolute Error     :',mae_no)\n",
        "print('Mean Square Error       :',mse_no)\n",
        "print('Mean Squared Log Error  :',msle_no)\n",
        "print('Median Absolute Error   :',Mae_no)\n",
        "print('R2 Score                :',r2_no)\n",
        "# print('Mean Poisson Deviance   :',mpd_no)\n",
        "# print('Mean Gamma Deviance     :',mgd_no)\n",
        "# print('Mean Tweedie Deviance   :',mtd_no)"
      ]
    },
    {
      "cell_type": "code",
      "execution_count": null,
      "metadata": {
        "id": "O6kDxl28OzW3"
      },
      "outputs": [],
      "source": [
        "y_pred = ann.predict(X_test)\n",
        "np.set_printoptions(precision=2)\n",
        "print(np.concatenate((y_pred.reshape(len(y_pred),1), y_test.values.reshape(len(y_test),1)),1))"
      ]
    },
    {
      "cell_type": "code",
      "execution_count": null,
      "metadata": {
        "id": "tBKBqSyWOzW3"
      },
      "outputs": [],
      "source": []
    },
    {
      "cell_type": "code",
      "execution_count": null,
      "metadata": {
        "id": "0bD1Q7pTOzW4"
      },
      "outputs": [],
      "source": [
        "import sklearn.metrics\n",
        "evs_no=sklearn.metrics.explained_variance_score(y_test,ann.predict(X_test))\n",
        "me_no=sklearn.metrics.max_error(y_test,ann.predict(X_test))\n",
        "mae_no=sklearn.metrics.mean_absolute_error(y_test,ann.predict(X_test))\n",
        "mse_no=sklearn.metrics.mean_squared_error(y_test,ann.predict(X_test))\n",
        "msle_no=sklearn.metrics.mean_squared_log_error(y_test,ann.predict(X_test))\n",
        "Mae_no=sklearn.metrics.median_absolute_error(y_test,ann.predict(X_test))\n",
        "r2_no=sklearn.metrics.r2_score(y_test,ann.predict(X_test))\n",
        "mpd_no=sklearn.metrics.mean_poisson_deviance(y_test,ann.predict(X_test))\n",
        "mgd_no=sklearn.metrics.mean_gamma_deviance(y_test,ann.predict(X_test))\n",
        "mtd_no=sklearn.metrics.mean_tweedie_deviance(y_test,ann.predict(X_test))"
      ]
    },
    {
      "cell_type": "code",
      "execution_count": null,
      "metadata": {
        "id": "rUPYqF80OzW4"
      },
      "outputs": [],
      "source": [
        "print('Explained Variance Score:',evs_no)\n",
        "print('Max Error               :',me_no)\n",
        "print('Mean Absolute Error     :',mae_no)\n",
        "print('Mean Square Error       :',mse_no)\n",
        "print('Mean Squared Log Error  :',msle_no)\n",
        "print('Median Absolute Error   :',Mae_no)\n",
        "print('R2 Score                :',r2_no)\n",
        "# print('Mean Poisson Deviance   :',mpd_no)\n",
        "# print('Mean Gamma Deviance     :',mgd_no)\n",
        "# print('Mean Tweedie Deviance   :',mtd_no)"
      ]
    },
    {
      "cell_type": "code",
      "execution_count": null,
      "metadata": {
        "id": "WwqIkAlaOzW4"
      },
      "outputs": [],
      "source": [
        "# list all data in history\n",
        "print(model.history.keys())\n",
        "plt.plot(model.history['loss'])\n",
        "plt.plot(model.history['val_loss'])\n",
        "plt.grid()\n",
        "plt.title('Model loss')\n",
        "plt.ylabel('loss')\n",
        "plt.xlabel('epoch')\n",
        "plt.legend(['train', 'test'], loc='best')\n",
        "plt.show()\n",
        "# summarize history for loss\n",
        "plt.plot(model.history['mean_squared_logarithmic_error'])\n",
        "plt.plot(model.history['val_mean_squared_logarithmic_error'])\n",
        "plt.grid()\n",
        "plt.title('model Mean Squared Logarithmic Error')\n",
        "plt.ylabel('mean_squared_logarithmic_error')\n",
        "plt.xlabel('epoch')\n",
        "plt.legend(['train', 'test'], loc='best')\n",
        "plt.show()\n"
      ]
    },
    {
      "cell_type": "code",
      "execution_count": null,
      "metadata": {
        "id": "5j9szsMDOzW4"
      },
      "outputs": [],
      "source": []
    },
    {
      "cell_type": "code",
      "execution_count": null,
      "metadata": {
        "id": "qGebvN8BOzW4"
      },
      "outputs": [],
      "source": []
    },
    {
      "cell_type": "code",
      "execution_count": null,
      "metadata": {
        "id": "Gnd7tZJ3OzW4"
      },
      "outputs": [],
      "source": []
    },
    {
      "cell_type": "markdown",
      "metadata": {
        "id": "QdcaFSpaOzW4"
      },
      "source": [
        "# Tree based Ensemble Models"
      ]
    },
    {
      "cell_type": "markdown",
      "metadata": {
        "id": "yVI_4SMmOzW4"
      },
      "source": [
        "## 1. Gradient Boosting"
      ]
    },
    {
      "cell_type": "code",
      "execution_count": null,
      "metadata": {
        "id": "P0vlF2rCOzW4",
        "outputId": "e7b7b9e6-8d5a-4c5e-d8e2-fdac7934fe24"
      },
      "outputs": [],
      "source": [
        "from sklearn import ensemble\n",
        "from sklearn.metrics import mean_squared_error\n",
        "from math import sqrt\n",
        "\n",
        "model = ensemble.GradientBoostingRegressor(n_estimators=20, max_depth=4, min_samples_leaf=15, min_samples_split=10, learning_rate=0.01, loss='huber', random_state=5)\n",
        "\n",
        "\n",
        "# Fit model\n",
        "model.fit(X_train, Y_train)"
      ]
    },
    {
      "cell_type": "markdown",
      "metadata": {
        "id": "lq9VG86HOzW4"
      },
      "source": [
        "#### Evalulation"
      ]
    },
    {
      "cell_type": "markdown",
      "metadata": {
        "id": "jSAu0ppZOzW4"
      },
      "source": [
        "## 2. Ada Boost"
      ]
    },
    {
      "cell_type": "code",
      "execution_count": null,
      "metadata": {
        "id": "3_OTaJSmOzW5"
      },
      "outputs": [],
      "source": []
    },
    {
      "cell_type": "code",
      "execution_count": null,
      "metadata": {
        "id": "86OTeVkIOzW5"
      },
      "outputs": [],
      "source": []
    },
    {
      "cell_type": "markdown",
      "metadata": {
        "id": "wgG_tR_dOzW5"
      },
      "source": [
        "## 3.Extreme Gradient Boost (or XGBoost)"
      ]
    },
    {
      "cell_type": "code",
      "execution_count": null,
      "metadata": {
        "id": "g91pb2L3OzW5"
      },
      "outputs": [],
      "source": []
    },
    {
      "cell_type": "markdown",
      "metadata": {
        "id": "XD6f20ovOzW5"
      },
      "source": [
        "## 4. Random Forest (RF)"
      ]
    },
    {
      "cell_type": "code",
      "execution_count": null,
      "metadata": {
        "id": "4GeLaJgwOzW5"
      },
      "outputs": [],
      "source": []
    },
    {
      "cell_type": "code",
      "execution_count": null,
      "metadata": {
        "id": "5VjqysWROzW5"
      },
      "outputs": [],
      "source": []
    },
    {
      "cell_type": "markdown",
      "metadata": {
        "id": "NGSTFlr9OzW5"
      },
      "source": [
        "# Linear Models"
      ]
    },
    {
      "cell_type": "markdown",
      "metadata": {
        "id": "TsexKEWnOzW5"
      },
      "source": [
        "## 1.Linear Regression"
      ]
    },
    {
      "cell_type": "code",
      "execution_count": null,
      "metadata": {
        "id": "I16g_WNwOzW6"
      },
      "outputs": [],
      "source": []
    },
    {
      "cell_type": "markdown",
      "metadata": {
        "id": "zmC98OcjOzW6"
      },
      "source": [
        "## 2. LASSO regression"
      ]
    },
    {
      "cell_type": "code",
      "execution_count": null,
      "metadata": {
        "id": "JUZImdiHOzW6"
      },
      "outputs": [],
      "source": []
    },
    {
      "cell_type": "markdown",
      "metadata": {
        "id": "FMEkufyqOzW6"
      },
      "source": [
        "## 3. Ridge Regression"
      ]
    },
    {
      "cell_type": "code",
      "execution_count": null,
      "metadata": {
        "id": "lgdBSHVqOzW6"
      },
      "outputs": [],
      "source": []
    },
    {
      "cell_type": "markdown",
      "metadata": {
        "id": "pDGoUdT_OzW6"
      },
      "source": [
        "# Kernel Based Methods"
      ]
    },
    {
      "cell_type": "markdown",
      "metadata": {
        "id": "obf0jgHROzW6"
      },
      "source": [
        "## 1. Gaussian Process Regression"
      ]
    },
    {
      "cell_type": "code",
      "execution_count": null,
      "metadata": {
        "id": "Qu98yqPiOzW6"
      },
      "outputs": [],
      "source": []
    },
    {
      "cell_type": "markdown",
      "metadata": {
        "id": "LJWa5dmHOzW6"
      },
      "source": [
        "## 2. SVM"
      ]
    },
    {
      "cell_type": "code",
      "execution_count": null,
      "metadata": {
        "id": "pWggd76qOzW6"
      },
      "outputs": [],
      "source": []
    },
    {
      "cell_type": "markdown",
      "metadata": {
        "id": "c0r6Ob9IOzW6"
      },
      "source": [
        "## Nueral Netowrk"
      ]
    },
    {
      "cell_type": "code",
      "execution_count": null,
      "metadata": {
        "id": "OqyA1IdjOzW7"
      },
      "outputs": [],
      "source": []
    },
    {
      "cell_type": "markdown",
      "metadata": {
        "id": "GksRB_wtOzW7"
      },
      "source": [
        "## 1.ANN"
      ]
    },
    {
      "cell_type": "code",
      "execution_count": null,
      "metadata": {
        "id": "cDirp4-GOzW7"
      },
      "outputs": [],
      "source": []
    },
    {
      "cell_type": "code",
      "execution_count": null,
      "metadata": {
        "id": "GMiaDgAmOzW7"
      },
      "outputs": [],
      "source": []
    },
    {
      "attachments": {},
      "cell_type": "markdown",
      "metadata": {
        "id": "fr9IUl8iOzW7"
      },
      "source": [
        "Extra Trees Regressor"
      ]
    },
    {
      "cell_type": "code",
      "execution_count": null,
      "metadata": {},
      "outputs": [],
      "source": [
        "from sklearn.ensemble import ExtraTreesRegressor as et\n",
        "\n",
        "model = et()\n"
      ]
    }
  ],
  "metadata": {
    "colab": {
      "provenance": []
    },
    "kernelspec": {
      "display_name": "Python 3 (ipykernel)",
      "language": "python",
      "name": "python3"
    },
    "language_info": {
      "codemirror_mode": {
        "name": "ipython",
        "version": 3
      },
      "file_extension": ".py",
      "mimetype": "text/x-python",
      "name": "python",
      "nbconvert_exporter": "python",
      "pygments_lexer": "ipython3",
      "version": "3.0.0"
    }
  },
  "nbformat": 4,
  "nbformat_minor": 0
}
