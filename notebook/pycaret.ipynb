{
 "cells": [
  {
   "cell_type": "code",
   "execution_count": 65,
   "metadata": {},
   "outputs": [],
   "source": [
    "import pycaret\n",
    "import pandas as pd"
   ]
  },
  {
   "cell_type": "code",
   "execution_count": 66,
   "metadata": {},
   "outputs": [],
   "source": [
    "data = pd.read_csv(\"../input/out.csv\")"
   ]
  },
  {
   "cell_type": "code",
   "execution_count": 71,
   "metadata": {},
   "outputs": [
    {
     "data": {
      "text/plain": [
       "['Fabrication Temperature ',\n",
       " 'Fiber Density',\n",
       " 'Overall Interphase thickness',\n",
       " 'Fiber Volume Fractions',\n",
       " 'Fiber Radius',\n",
       " 'Fiber Modulus',\n",
       " 'Number of Fibers per Tow',\n",
       " 'Strength',\n",
       " 'Tensile Testing Temperature']"
      ]
     },
     "execution_count": 71,
     "metadata": {},
     "output_type": "execute_result"
    }
   ],
   "source": [
    "list(data.columns)"
   ]
  },
  {
   "cell_type": "markdown",
   "metadata": {},
   "source": [
    "# Pycaret"
   ]
  },
  {
   "cell_type": "code",
   "execution_count": 72,
   "metadata": {},
   "outputs": [],
   "source": [
    "from pycaret.regression import *"
   ]
  },
  {
   "cell_type": "code",
   "execution_count": 73,
   "metadata": {},
   "outputs": [
    {
     "data": {
      "text/html": [
       "<style type=\"text/css\">\n",
       "#T_5122e_row8_col1 {\n",
       "  background-color: lightgreen;\n",
       "}\n",
       "</style>\n",
       "<table id=\"T_5122e\">\n",
       "  <thead>\n",
       "    <tr>\n",
       "      <th class=\"blank level0\" >&nbsp;</th>\n",
       "      <th id=\"T_5122e_level0_col0\" class=\"col_heading level0 col0\" >Description</th>\n",
       "      <th id=\"T_5122e_level0_col1\" class=\"col_heading level0 col1\" >Value</th>\n",
       "    </tr>\n",
       "  </thead>\n",
       "  <tbody>\n",
       "    <tr>\n",
       "      <th id=\"T_5122e_level0_row0\" class=\"row_heading level0 row0\" >0</th>\n",
       "      <td id=\"T_5122e_row0_col0\" class=\"data row0 col0\" >Session id</td>\n",
       "      <td id=\"T_5122e_row0_col1\" class=\"data row0 col1\" >123</td>\n",
       "    </tr>\n",
       "    <tr>\n",
       "      <th id=\"T_5122e_level0_row1\" class=\"row_heading level0 row1\" >1</th>\n",
       "      <td id=\"T_5122e_row1_col0\" class=\"data row1 col0\" >Target</td>\n",
       "      <td id=\"T_5122e_row1_col1\" class=\"data row1 col1\" >Strength</td>\n",
       "    </tr>\n",
       "    <tr>\n",
       "      <th id=\"T_5122e_level0_row2\" class=\"row_heading level0 row2\" >2</th>\n",
       "      <td id=\"T_5122e_row2_col0\" class=\"data row2 col0\" >Target type</td>\n",
       "      <td id=\"T_5122e_row2_col1\" class=\"data row2 col1\" >Regression</td>\n",
       "    </tr>\n",
       "    <tr>\n",
       "      <th id=\"T_5122e_level0_row3\" class=\"row_heading level0 row3\" >3</th>\n",
       "      <td id=\"T_5122e_row3_col0\" class=\"data row3 col0\" >Original data shape</td>\n",
       "      <td id=\"T_5122e_row3_col1\" class=\"data row3 col1\" >(95, 9)</td>\n",
       "    </tr>\n",
       "    <tr>\n",
       "      <th id=\"T_5122e_level0_row4\" class=\"row_heading level0 row4\" >4</th>\n",
       "      <td id=\"T_5122e_row4_col0\" class=\"data row4 col0\" >Transformed data shape</td>\n",
       "      <td id=\"T_5122e_row4_col1\" class=\"data row4 col1\" >(95, 9)</td>\n",
       "    </tr>\n",
       "    <tr>\n",
       "      <th id=\"T_5122e_level0_row5\" class=\"row_heading level0 row5\" >5</th>\n",
       "      <td id=\"T_5122e_row5_col0\" class=\"data row5 col0\" >Transformed train set shape</td>\n",
       "      <td id=\"T_5122e_row5_col1\" class=\"data row5 col1\" >(66, 9)</td>\n",
       "    </tr>\n",
       "    <tr>\n",
       "      <th id=\"T_5122e_level0_row6\" class=\"row_heading level0 row6\" >6</th>\n",
       "      <td id=\"T_5122e_row6_col0\" class=\"data row6 col0\" >Transformed test set shape</td>\n",
       "      <td id=\"T_5122e_row6_col1\" class=\"data row6 col1\" >(29, 9)</td>\n",
       "    </tr>\n",
       "    <tr>\n",
       "      <th id=\"T_5122e_level0_row7\" class=\"row_heading level0 row7\" >7</th>\n",
       "      <td id=\"T_5122e_row7_col0\" class=\"data row7 col0\" >Numeric features</td>\n",
       "      <td id=\"T_5122e_row7_col1\" class=\"data row7 col1\" >8</td>\n",
       "    </tr>\n",
       "    <tr>\n",
       "      <th id=\"T_5122e_level0_row8\" class=\"row_heading level0 row8\" >8</th>\n",
       "      <td id=\"T_5122e_row8_col0\" class=\"data row8 col0\" >Preprocess</td>\n",
       "      <td id=\"T_5122e_row8_col1\" class=\"data row8 col1\" >True</td>\n",
       "    </tr>\n",
       "    <tr>\n",
       "      <th id=\"T_5122e_level0_row9\" class=\"row_heading level0 row9\" >9</th>\n",
       "      <td id=\"T_5122e_row9_col0\" class=\"data row9 col0\" >Imputation type</td>\n",
       "      <td id=\"T_5122e_row9_col1\" class=\"data row9 col1\" >simple</td>\n",
       "    </tr>\n",
       "    <tr>\n",
       "      <th id=\"T_5122e_level0_row10\" class=\"row_heading level0 row10\" >10</th>\n",
       "      <td id=\"T_5122e_row10_col0\" class=\"data row10 col0\" >Numeric imputation</td>\n",
       "      <td id=\"T_5122e_row10_col1\" class=\"data row10 col1\" >mean</td>\n",
       "    </tr>\n",
       "    <tr>\n",
       "      <th id=\"T_5122e_level0_row11\" class=\"row_heading level0 row11\" >11</th>\n",
       "      <td id=\"T_5122e_row11_col0\" class=\"data row11 col0\" >Categorical imputation</td>\n",
       "      <td id=\"T_5122e_row11_col1\" class=\"data row11 col1\" >mode</td>\n",
       "    </tr>\n",
       "    <tr>\n",
       "      <th id=\"T_5122e_level0_row12\" class=\"row_heading level0 row12\" >12</th>\n",
       "      <td id=\"T_5122e_row12_col0\" class=\"data row12 col0\" >Fold Generator</td>\n",
       "      <td id=\"T_5122e_row12_col1\" class=\"data row12 col1\" >KFold</td>\n",
       "    </tr>\n",
       "    <tr>\n",
       "      <th id=\"T_5122e_level0_row13\" class=\"row_heading level0 row13\" >13</th>\n",
       "      <td id=\"T_5122e_row13_col0\" class=\"data row13 col0\" >Fold Number</td>\n",
       "      <td id=\"T_5122e_row13_col1\" class=\"data row13 col1\" >5</td>\n",
       "    </tr>\n",
       "    <tr>\n",
       "      <th id=\"T_5122e_level0_row14\" class=\"row_heading level0 row14\" >14</th>\n",
       "      <td id=\"T_5122e_row14_col0\" class=\"data row14 col0\" >CPU Jobs</td>\n",
       "      <td id=\"T_5122e_row14_col1\" class=\"data row14 col1\" >-1</td>\n",
       "    </tr>\n",
       "    <tr>\n",
       "      <th id=\"T_5122e_level0_row15\" class=\"row_heading level0 row15\" >15</th>\n",
       "      <td id=\"T_5122e_row15_col0\" class=\"data row15 col0\" >Use GPU</td>\n",
       "      <td id=\"T_5122e_row15_col1\" class=\"data row15 col1\" >False</td>\n",
       "    </tr>\n",
       "    <tr>\n",
       "      <th id=\"T_5122e_level0_row16\" class=\"row_heading level0 row16\" >16</th>\n",
       "      <td id=\"T_5122e_row16_col0\" class=\"data row16 col0\" >Log Experiment</td>\n",
       "      <td id=\"T_5122e_row16_col1\" class=\"data row16 col1\" >False</td>\n",
       "    </tr>\n",
       "    <tr>\n",
       "      <th id=\"T_5122e_level0_row17\" class=\"row_heading level0 row17\" >17</th>\n",
       "      <td id=\"T_5122e_row17_col0\" class=\"data row17 col0\" >Experiment Name</td>\n",
       "      <td id=\"T_5122e_row17_col1\" class=\"data row17 col1\" >reg-default-name</td>\n",
       "    </tr>\n",
       "    <tr>\n",
       "      <th id=\"T_5122e_level0_row18\" class=\"row_heading level0 row18\" >18</th>\n",
       "      <td id=\"T_5122e_row18_col0\" class=\"data row18 col0\" >USI</td>\n",
       "      <td id=\"T_5122e_row18_col1\" class=\"data row18 col1\" >2520</td>\n",
       "    </tr>\n",
       "  </tbody>\n",
       "</table>\n"
      ],
      "text/plain": [
       "<pandas.io.formats.style.Styler at 0x16a9d3550>"
      ]
     },
     "metadata": {},
     "output_type": "display_data"
    }
   ],
   "source": [
    "s = setup(data=data, target=\"Strength\",session_id=123,fold=5)"
   ]
  },
  {
   "cell_type": "code",
   "execution_count": 74,
   "metadata": {},
   "outputs": [
    {
     "data": {
      "text/html": [
       "<div>\n",
       "<style scoped>\n",
       "    .dataframe tbody tr th:only-of-type {\n",
       "        vertical-align: middle;\n",
       "    }\n",
       "\n",
       "    .dataframe tbody tr th {\n",
       "        vertical-align: top;\n",
       "    }\n",
       "\n",
       "    .dataframe thead th {\n",
       "        text-align: right;\n",
       "    }\n",
       "</style>\n",
       "<table border=\"1\" class=\"dataframe\">\n",
       "  <thead>\n",
       "    <tr style=\"text-align: right;\">\n",
       "      <th></th>\n",
       "      <th>Model</th>\n",
       "      <th>MAE</th>\n",
       "      <th>MSE</th>\n",
       "      <th>RMSE</th>\n",
       "      <th>R2</th>\n",
       "      <th>RMSLE</th>\n",
       "      <th>MAPE</th>\n",
       "      <th>TT (Sec)</th>\n",
       "    </tr>\n",
       "  </thead>\n",
       "  <tbody>\n",
       "    <tr>\n",
       "      <th>ada</th>\n",
       "      <td>AdaBoost Regressor</td>\n",
       "      <td>124.2691</td>\n",
       "      <td>23696.7232</td>\n",
       "      <td>148.0067</td>\n",
       "      <td>0.6906</td>\n",
       "      <td>0.3283</td>\n",
       "      <td>0.2868</td>\n",
       "      <td>0.020</td>\n",
       "    </tr>\n",
       "    <tr>\n",
       "      <th>rf</th>\n",
       "      <td>Random Forest Regressor</td>\n",
       "      <td>128.5958</td>\n",
       "      <td>24285.4523</td>\n",
       "      <td>151.8121</td>\n",
       "      <td>0.6690</td>\n",
       "      <td>0.3208</td>\n",
       "      <td>0.2900</td>\n",
       "      <td>0.044</td>\n",
       "    </tr>\n",
       "    <tr>\n",
       "      <th>gbr</th>\n",
       "      <td>Gradient Boosting Regressor</td>\n",
       "      <td>123.5123</td>\n",
       "      <td>25398.2918</td>\n",
       "      <td>154.6523</td>\n",
       "      <td>0.6455</td>\n",
       "      <td>0.3323</td>\n",
       "      <td>0.2766</td>\n",
       "      <td>0.020</td>\n",
       "    </tr>\n",
       "    <tr>\n",
       "      <th>et</th>\n",
       "      <td>Extra Trees Regressor</td>\n",
       "      <td>135.6097</td>\n",
       "      <td>28759.0207</td>\n",
       "      <td>166.4425</td>\n",
       "      <td>0.5950</td>\n",
       "      <td>0.3536</td>\n",
       "      <td>0.3089</td>\n",
       "      <td>0.050</td>\n",
       "    </tr>\n",
       "    <tr>\n",
       "      <th>xgboost</th>\n",
       "      <td>Extreme Gradient Boosting</td>\n",
       "      <td>133.1971</td>\n",
       "      <td>32593.6236</td>\n",
       "      <td>174.5444</td>\n",
       "      <td>0.5499</td>\n",
       "      <td>0.3771</td>\n",
       "      <td>0.2924</td>\n",
       "      <td>0.018</td>\n",
       "    </tr>\n",
       "    <tr>\n",
       "      <th>lightgbm</th>\n",
       "      <td>Light Gradient Boosting Machine</td>\n",
       "      <td>177.5877</td>\n",
       "      <td>45928.6684</td>\n",
       "      <td>210.3717</td>\n",
       "      <td>0.3431</td>\n",
       "      <td>0.4285</td>\n",
       "      <td>0.3970</td>\n",
       "      <td>0.014</td>\n",
       "    </tr>\n",
       "    <tr>\n",
       "      <th>lasso</th>\n",
       "      <td>Lasso Regression</td>\n",
       "      <td>193.7209</td>\n",
       "      <td>57812.9726</td>\n",
       "      <td>237.4495</td>\n",
       "      <td>0.1278</td>\n",
       "      <td>0.6117</td>\n",
       "      <td>0.4310</td>\n",
       "      <td>0.016</td>\n",
       "    </tr>\n",
       "    <tr>\n",
       "      <th>lr</th>\n",
       "      <td>Linear Regression</td>\n",
       "      <td>193.4270</td>\n",
       "      <td>57947.2600</td>\n",
       "      <td>237.5344</td>\n",
       "      <td>0.1265</td>\n",
       "      <td>0.5571</td>\n",
       "      <td>0.4288</td>\n",
       "      <td>0.022</td>\n",
       "    </tr>\n",
       "    <tr>\n",
       "      <th>ridge</th>\n",
       "      <td>Ridge Regression</td>\n",
       "      <td>193.4489</td>\n",
       "      <td>57934.5102</td>\n",
       "      <td>237.7474</td>\n",
       "      <td>0.1234</td>\n",
       "      <td>0.5097</td>\n",
       "      <td>0.4341</td>\n",
       "      <td>0.016</td>\n",
       "    </tr>\n",
       "    <tr>\n",
       "      <th>knn</th>\n",
       "      <td>K Neighbors Regressor</td>\n",
       "      <td>222.5262</td>\n",
       "      <td>69421.4250</td>\n",
       "      <td>261.9072</td>\n",
       "      <td>0.0133</td>\n",
       "      <td>0.4974</td>\n",
       "      <td>0.4972</td>\n",
       "      <td>0.014</td>\n",
       "    </tr>\n",
       "  </tbody>\n",
       "</table>\n",
       "</div>"
      ],
      "text/plain": [
       "                                    Model       MAE         MSE      RMSE  \\\n",
       "ada                    AdaBoost Regressor  124.2691  23696.7232  148.0067   \n",
       "rf                Random Forest Regressor  128.5958  24285.4523  151.8121   \n",
       "gbr           Gradient Boosting Regressor  123.5123  25398.2918  154.6523   \n",
       "et                  Extra Trees Regressor  135.6097  28759.0207  166.4425   \n",
       "xgboost         Extreme Gradient Boosting  133.1971  32593.6236  174.5444   \n",
       "lightgbm  Light Gradient Boosting Machine  177.5877  45928.6684  210.3717   \n",
       "lasso                    Lasso Regression  193.7209  57812.9726  237.4495   \n",
       "lr                      Linear Regression  193.4270  57947.2600  237.5344   \n",
       "ridge                    Ridge Regression  193.4489  57934.5102  237.7474   \n",
       "knn                 K Neighbors Regressor  222.5262  69421.4250  261.9072   \n",
       "\n",
       "              R2   RMSLE    MAPE  TT (Sec)  \n",
       "ada       0.6906  0.3283  0.2868     0.020  \n",
       "rf        0.6690  0.3208  0.2900     0.044  \n",
       "gbr       0.6455  0.3323  0.2766     0.020  \n",
       "et        0.5950  0.3536  0.3089     0.050  \n",
       "xgboost   0.5499  0.3771  0.2924     0.018  \n",
       "lightgbm  0.3431  0.4285  0.3970     0.014  \n",
       "lasso     0.1278  0.6117  0.4310     0.016  \n",
       "lr        0.1265  0.5571  0.4288     0.022  \n",
       "ridge     0.1234  0.5097  0.4341     0.016  \n",
       "knn       0.0133  0.4974  0.4972     0.014  "
      ]
     },
     "execution_count": 74,
     "metadata": {},
     "output_type": "execute_result"
    }
   ],
   "source": [
    "best = compare_models(include=['lr','lasso','ridge','et','gbr','ada','rf','xgboost','lightgbm','knn'])\n",
    "pull()"
   ]
  },
  {
   "cell_type": "code",
   "execution_count": 46,
   "metadata": {},
   "outputs": [
    {
     "name": "stdout",
     "output_type": "stream",
     "text": [
      "GradientBoostingRegressor(random_state=123)\n"
     ]
    }
   ],
   "source": [
    "print(best)"
   ]
  },
  {
   "cell_type": "code",
   "execution_count": 19,
   "metadata": {},
   "outputs": [
    {
     "name": "stdout",
     "output_type": "stream",
     "text": [
      "GradientBoostingRegressor(random_state=123)\n"
     ]
    }
   ],
   "source": [
    "print(best)"
   ]
  },
  {
   "cell_type": "code",
   "execution_count": 20,
   "metadata": {},
   "outputs": [],
   "source": [
    "mod = models()"
   ]
  },
  {
   "cell_type": "code",
   "execution_count": 21,
   "metadata": {},
   "outputs": [
    {
     "data": {
      "text/html": [
       "<div>\n",
       "<style scoped>\n",
       "    .dataframe tbody tr th:only-of-type {\n",
       "        vertical-align: middle;\n",
       "    }\n",
       "\n",
       "    .dataframe tbody tr th {\n",
       "        vertical-align: top;\n",
       "    }\n",
       "\n",
       "    .dataframe thead th {\n",
       "        text-align: right;\n",
       "    }\n",
       "</style>\n",
       "<table border=\"1\" class=\"dataframe\">\n",
       "  <thead>\n",
       "    <tr style=\"text-align: right;\">\n",
       "      <th></th>\n",
       "      <th>Name</th>\n",
       "      <th>Reference</th>\n",
       "      <th>Turbo</th>\n",
       "    </tr>\n",
       "    <tr>\n",
       "      <th>ID</th>\n",
       "      <th></th>\n",
       "      <th></th>\n",
       "      <th></th>\n",
       "    </tr>\n",
       "  </thead>\n",
       "  <tbody>\n",
       "    <tr>\n",
       "      <th>lr</th>\n",
       "      <td>Linear Regression</td>\n",
       "      <td>sklearn.linear_model._base.LinearRegression</td>\n",
       "      <td>True</td>\n",
       "    </tr>\n",
       "    <tr>\n",
       "      <th>lasso</th>\n",
       "      <td>Lasso Regression</td>\n",
       "      <td>sklearn.linear_model._coordinate_descent.Lasso</td>\n",
       "      <td>True</td>\n",
       "    </tr>\n",
       "    <tr>\n",
       "      <th>ridge</th>\n",
       "      <td>Ridge Regression</td>\n",
       "      <td>sklearn.linear_model._ridge.Ridge</td>\n",
       "      <td>True</td>\n",
       "    </tr>\n",
       "    <tr>\n",
       "      <th>en</th>\n",
       "      <td>Elastic Net</td>\n",
       "      <td>sklearn.linear_model._coordinate_descent.Elast...</td>\n",
       "      <td>True</td>\n",
       "    </tr>\n",
       "    <tr>\n",
       "      <th>lar</th>\n",
       "      <td>Least Angle Regression</td>\n",
       "      <td>sklearn.linear_model._least_angle.Lars</td>\n",
       "      <td>True</td>\n",
       "    </tr>\n",
       "    <tr>\n",
       "      <th>llar</th>\n",
       "      <td>Lasso Least Angle Regression</td>\n",
       "      <td>sklearn.linear_model._least_angle.LassoLars</td>\n",
       "      <td>True</td>\n",
       "    </tr>\n",
       "    <tr>\n",
       "      <th>omp</th>\n",
       "      <td>Orthogonal Matching Pursuit</td>\n",
       "      <td>sklearn.linear_model._omp.OrthogonalMatchingPu...</td>\n",
       "      <td>True</td>\n",
       "    </tr>\n",
       "    <tr>\n",
       "      <th>br</th>\n",
       "      <td>Bayesian Ridge</td>\n",
       "      <td>sklearn.linear_model._bayes.BayesianRidge</td>\n",
       "      <td>True</td>\n",
       "    </tr>\n",
       "    <tr>\n",
       "      <th>ard</th>\n",
       "      <td>Automatic Relevance Determination</td>\n",
       "      <td>sklearn.linear_model._bayes.ARDRegression</td>\n",
       "      <td>False</td>\n",
       "    </tr>\n",
       "    <tr>\n",
       "      <th>par</th>\n",
       "      <td>Passive Aggressive Regressor</td>\n",
       "      <td>sklearn.linear_model._passive_aggressive.Passi...</td>\n",
       "      <td>True</td>\n",
       "    </tr>\n",
       "    <tr>\n",
       "      <th>ransac</th>\n",
       "      <td>Random Sample Consensus</td>\n",
       "      <td>sklearn.linear_model._ransac.RANSACRegressor</td>\n",
       "      <td>False</td>\n",
       "    </tr>\n",
       "    <tr>\n",
       "      <th>tr</th>\n",
       "      <td>TheilSen Regressor</td>\n",
       "      <td>sklearn.linear_model._theil_sen.TheilSenRegressor</td>\n",
       "      <td>False</td>\n",
       "    </tr>\n",
       "    <tr>\n",
       "      <th>huber</th>\n",
       "      <td>Huber Regressor</td>\n",
       "      <td>sklearn.linear_model._huber.HuberRegressor</td>\n",
       "      <td>True</td>\n",
       "    </tr>\n",
       "    <tr>\n",
       "      <th>kr</th>\n",
       "      <td>Kernel Ridge</td>\n",
       "      <td>sklearn.kernel_ridge.KernelRidge</td>\n",
       "      <td>False</td>\n",
       "    </tr>\n",
       "    <tr>\n",
       "      <th>svm</th>\n",
       "      <td>Support Vector Regression</td>\n",
       "      <td>sklearn.svm._classes.SVR</td>\n",
       "      <td>False</td>\n",
       "    </tr>\n",
       "    <tr>\n",
       "      <th>knn</th>\n",
       "      <td>K Neighbors Regressor</td>\n",
       "      <td>sklearn.neighbors._regression.KNeighborsRegressor</td>\n",
       "      <td>True</td>\n",
       "    </tr>\n",
       "    <tr>\n",
       "      <th>dt</th>\n",
       "      <td>Decision Tree Regressor</td>\n",
       "      <td>sklearn.tree._classes.DecisionTreeRegressor</td>\n",
       "      <td>True</td>\n",
       "    </tr>\n",
       "    <tr>\n",
       "      <th>rf</th>\n",
       "      <td>Random Forest Regressor</td>\n",
       "      <td>sklearn.ensemble._forest.RandomForestRegressor</td>\n",
       "      <td>True</td>\n",
       "    </tr>\n",
       "    <tr>\n",
       "      <th>et</th>\n",
       "      <td>Extra Trees Regressor</td>\n",
       "      <td>sklearn.ensemble._forest.ExtraTreesRegressor</td>\n",
       "      <td>True</td>\n",
       "    </tr>\n",
       "    <tr>\n",
       "      <th>ada</th>\n",
       "      <td>AdaBoost Regressor</td>\n",
       "      <td>sklearn.ensemble._weight_boosting.AdaBoostRegr...</td>\n",
       "      <td>True</td>\n",
       "    </tr>\n",
       "    <tr>\n",
       "      <th>gbr</th>\n",
       "      <td>Gradient Boosting Regressor</td>\n",
       "      <td>sklearn.ensemble._gb.GradientBoostingRegressor</td>\n",
       "      <td>True</td>\n",
       "    </tr>\n",
       "    <tr>\n",
       "      <th>mlp</th>\n",
       "      <td>MLP Regressor</td>\n",
       "      <td>sklearn.neural_network._multilayer_perceptron....</td>\n",
       "      <td>False</td>\n",
       "    </tr>\n",
       "    <tr>\n",
       "      <th>xgboost</th>\n",
       "      <td>Extreme Gradient Boosting</td>\n",
       "      <td>xgboost.sklearn.XGBRegressor</td>\n",
       "      <td>True</td>\n",
       "    </tr>\n",
       "    <tr>\n",
       "      <th>lightgbm</th>\n",
       "      <td>Light Gradient Boosting Machine</td>\n",
       "      <td>lightgbm.sklearn.LGBMRegressor</td>\n",
       "      <td>True</td>\n",
       "    </tr>\n",
       "    <tr>\n",
       "      <th>dummy</th>\n",
       "      <td>Dummy Regressor</td>\n",
       "      <td>sklearn.dummy.DummyRegressor</td>\n",
       "      <td>True</td>\n",
       "    </tr>\n",
       "  </tbody>\n",
       "</table>\n",
       "</div>"
      ],
      "text/plain": [
       "                                       Name  \\\n",
       "ID                                            \n",
       "lr                        Linear Regression   \n",
       "lasso                      Lasso Regression   \n",
       "ridge                      Ridge Regression   \n",
       "en                              Elastic Net   \n",
       "lar                  Least Angle Regression   \n",
       "llar           Lasso Least Angle Regression   \n",
       "omp             Orthogonal Matching Pursuit   \n",
       "br                           Bayesian Ridge   \n",
       "ard       Automatic Relevance Determination   \n",
       "par            Passive Aggressive Regressor   \n",
       "ransac              Random Sample Consensus   \n",
       "tr                       TheilSen Regressor   \n",
       "huber                       Huber Regressor   \n",
       "kr                             Kernel Ridge   \n",
       "svm               Support Vector Regression   \n",
       "knn                   K Neighbors Regressor   \n",
       "dt                  Decision Tree Regressor   \n",
       "rf                  Random Forest Regressor   \n",
       "et                    Extra Trees Regressor   \n",
       "ada                      AdaBoost Regressor   \n",
       "gbr             Gradient Boosting Regressor   \n",
       "mlp                           MLP Regressor   \n",
       "xgboost           Extreme Gradient Boosting   \n",
       "lightgbm    Light Gradient Boosting Machine   \n",
       "dummy                       Dummy Regressor   \n",
       "\n",
       "                                                  Reference  Turbo  \n",
       "ID                                                                  \n",
       "lr              sklearn.linear_model._base.LinearRegression   True  \n",
       "lasso        sklearn.linear_model._coordinate_descent.Lasso   True  \n",
       "ridge                     sklearn.linear_model._ridge.Ridge   True  \n",
       "en        sklearn.linear_model._coordinate_descent.Elast...   True  \n",
       "lar                  sklearn.linear_model._least_angle.Lars   True  \n",
       "llar            sklearn.linear_model._least_angle.LassoLars   True  \n",
       "omp       sklearn.linear_model._omp.OrthogonalMatchingPu...   True  \n",
       "br                sklearn.linear_model._bayes.BayesianRidge   True  \n",
       "ard               sklearn.linear_model._bayes.ARDRegression  False  \n",
       "par       sklearn.linear_model._passive_aggressive.Passi...   True  \n",
       "ransac         sklearn.linear_model._ransac.RANSACRegressor  False  \n",
       "tr        sklearn.linear_model._theil_sen.TheilSenRegressor  False  \n",
       "huber            sklearn.linear_model._huber.HuberRegressor   True  \n",
       "kr                         sklearn.kernel_ridge.KernelRidge  False  \n",
       "svm                                sklearn.svm._classes.SVR  False  \n",
       "knn       sklearn.neighbors._regression.KNeighborsRegressor   True  \n",
       "dt              sklearn.tree._classes.DecisionTreeRegressor   True  \n",
       "rf           sklearn.ensemble._forest.RandomForestRegressor   True  \n",
       "et             sklearn.ensemble._forest.ExtraTreesRegressor   True  \n",
       "ada       sklearn.ensemble._weight_boosting.AdaBoostRegr...   True  \n",
       "gbr          sklearn.ensemble._gb.GradientBoostingRegressor   True  \n",
       "mlp       sklearn.neural_network._multilayer_perceptron....  False  \n",
       "xgboost                        xgboost.sklearn.XGBRegressor   True  \n",
       "lightgbm                     lightgbm.sklearn.LGBMRegressor   True  \n",
       "dummy                          sklearn.dummy.DummyRegressor   True  "
      ]
     },
     "execution_count": 21,
     "metadata": {},
     "output_type": "execute_result"
    }
   ],
   "source": [
    "mod"
   ]
  },
  {
   "cell_type": "code",
   "execution_count": 22,
   "metadata": {},
   "outputs": [
    {
     "data": {
      "text/plain": [
       "Index(['Name', 'Reference', 'Turbo'], dtype='object')"
      ]
     },
     "execution_count": 22,
     "metadata": {},
     "output_type": "execute_result"
    }
   ],
   "source": [
    "mod.columns"
   ]
  },
  {
   "cell_type": "code",
   "execution_count": 23,
   "metadata": {},
   "outputs": [],
   "source": [
    "model_names = mod[\"Name\"].index.to_list()"
   ]
  },
  {
   "cell_type": "code",
   "execution_count": null,
   "metadata": {},
   "outputs": [],
   "source": [
    "print(model_names)"
   ]
  },
  {
   "cell_type": "code",
   "execution_count": null,
   "metadata": {},
   "outputs": [],
   "source": [
    "etr = create_model('et',return_train_score=True)\n",
    "pull()"
   ]
  },
  {
   "cell_type": "code",
   "execution_count": null,
   "metadata": {},
   "outputs": [],
   "source": [
    "ada = create_model('ada')"
   ]
  },
  {
   "cell_type": "code",
   "execution_count": null,
   "metadata": {},
   "outputs": [],
   "source": []
  },
  {
   "cell_type": "code",
   "execution_count": null,
   "metadata": {},
   "outputs": [],
   "source": [
    "tuned_etr = tune_model(etr)"
   ]
  },
  {
   "cell_type": "code",
   "execution_count": null,
   "metadata": {},
   "outputs": [],
   "source": [
    "plot_model(tuned_etr)"
   ]
  },
  {
   "cell_type": "code",
   "execution_count": null,
   "metadata": {},
   "outputs": [],
   "source": [
    "plot_model(tuned_etr, plot = 'error')"
   ]
  },
  {
   "cell_type": "code",
   "execution_count": null,
   "metadata": {},
   "outputs": [],
   "source": []
  },
  {
   "cell_type": "code",
   "execution_count": null,
   "metadata": {},
   "outputs": [],
   "source": [
    "plot_model(tuned_etr, plot='feature')"
   ]
  },
  {
   "cell_type": "code",
   "execution_count": null,
   "metadata": {},
   "outputs": [],
   "source": [
    "evaluate_model(tuned_etr)"
   ]
  },
  {
   "cell_type": "code",
   "execution_count": null,
   "metadata": {},
   "outputs": [],
   "source": [
    "predict_model(tuned_etr)"
   ]
  },
  {
   "cell_type": "code",
   "execution_count": null,
   "metadata": {},
   "outputs": [],
   "source": [
    "final_etr = finalize_model(tuned_etr)"
   ]
  },
  {
   "cell_type": "code",
   "execution_count": null,
   "metadata": {},
   "outputs": [],
   "source": [
    "predict_model(final_etr);"
   ]
  },
  {
   "cell_type": "code",
   "execution_count": null,
   "metadata": {},
   "outputs": [],
   "source": [
    "unseen_predictions = predict_model(final_etr, data=data_unseen)\n",
    "unseen_predictions.head()"
   ]
  },
  {
   "cell_type": "markdown",
   "metadata": {},
   "source": [
    "# AdaBoost Regressor"
   ]
  },
  {
   "cell_type": "code",
   "execution_count": 75,
   "metadata": {},
   "outputs": [
    {
     "data": {
      "text/html": [
       "<div>\n",
       "<style scoped>\n",
       "    .dataframe tbody tr th:only-of-type {\n",
       "        vertical-align: middle;\n",
       "    }\n",
       "\n",
       "    .dataframe tbody tr th {\n",
       "        vertical-align: top;\n",
       "    }\n",
       "\n",
       "    .dataframe thead th {\n",
       "        text-align: right;\n",
       "    }\n",
       "</style>\n",
       "<table border=\"1\" class=\"dataframe\">\n",
       "  <thead>\n",
       "    <tr style=\"text-align: right;\">\n",
       "      <th></th>\n",
       "      <th></th>\n",
       "      <th></th>\n",
       "    </tr>\n",
       "    <tr>\n",
       "      <th></th>\n",
       "      <th></th>\n",
       "      <th></th>\n",
       "    </tr>\n",
       "  </thead>\n",
       "  <tbody>\n",
       "    <tr>\n",
       "      <th>Initiated</th>\n",
       "      <td>. . . . . . . . . . . . . . . . . .</td>\n",
       "      <td>13:47:58</td>\n",
       "    </tr>\n",
       "    <tr>\n",
       "      <th>Status</th>\n",
       "      <td>. . . . . . . . . . . . . . . . . .</td>\n",
       "      <td>Loading Dependencies</td>\n",
       "    </tr>\n",
       "    <tr>\n",
       "      <th>Estimator</th>\n",
       "      <td>. . . . . . . . . . . . . . . . . .</td>\n",
       "      <td>Compiling Library</td>\n",
       "    </tr>\n",
       "  </tbody>\n",
       "</table>\n",
       "</div>"
      ],
      "text/plain": [
       "                                                                    \n",
       "                                                                    \n",
       "Initiated  . . . . . . . . . . . . . . . . . .              13:47:58\n",
       "Status     . . . . . . . . . . . . . . . . . .  Loading Dependencies\n",
       "Estimator  . . . . . . . . . . . . . . . . . .     Compiling Library"
      ]
     },
     "metadata": {},
     "output_type": "display_data"
    },
    {
     "data": {
      "text/html": [
       "<style type=\"text/css\">\n",
       "#T_f80e7_row5_col0, #T_f80e7_row5_col1, #T_f80e7_row5_col2, #T_f80e7_row5_col3, #T_f80e7_row5_col4, #T_f80e7_row5_col5 {\n",
       "  background: yellow;\n",
       "}\n",
       "</style>\n",
       "<table id=\"T_f80e7\">\n",
       "  <thead>\n",
       "    <tr>\n",
       "      <th class=\"blank level0\" >&nbsp;</th>\n",
       "      <th id=\"T_f80e7_level0_col0\" class=\"col_heading level0 col0\" >MAE</th>\n",
       "      <th id=\"T_f80e7_level0_col1\" class=\"col_heading level0 col1\" >MSE</th>\n",
       "      <th id=\"T_f80e7_level0_col2\" class=\"col_heading level0 col2\" >RMSE</th>\n",
       "      <th id=\"T_f80e7_level0_col3\" class=\"col_heading level0 col3\" >R2</th>\n",
       "      <th id=\"T_f80e7_level0_col4\" class=\"col_heading level0 col4\" >RMSLE</th>\n",
       "      <th id=\"T_f80e7_level0_col5\" class=\"col_heading level0 col5\" >MAPE</th>\n",
       "    </tr>\n",
       "    <tr>\n",
       "      <th class=\"index_name level0\" >Fold</th>\n",
       "      <th class=\"blank col0\" >&nbsp;</th>\n",
       "      <th class=\"blank col1\" >&nbsp;</th>\n",
       "      <th class=\"blank col2\" >&nbsp;</th>\n",
       "      <th class=\"blank col3\" >&nbsp;</th>\n",
       "      <th class=\"blank col4\" >&nbsp;</th>\n",
       "      <th class=\"blank col5\" >&nbsp;</th>\n",
       "    </tr>\n",
       "  </thead>\n",
       "  <tbody>\n",
       "    <tr>\n",
       "      <th id=\"T_f80e7_level0_row0\" class=\"row_heading level0 row0\" >0</th>\n",
       "      <td id=\"T_f80e7_row0_col0\" class=\"data row0 col0\" >161.0664</td>\n",
       "      <td id=\"T_f80e7_row0_col1\" class=\"data row0 col1\" >37719.2003</td>\n",
       "      <td id=\"T_f80e7_row0_col2\" class=\"data row0 col2\" >194.2143</td>\n",
       "      <td id=\"T_f80e7_row0_col3\" class=\"data row0 col3\" >0.5161</td>\n",
       "      <td id=\"T_f80e7_row0_col4\" class=\"data row0 col4\" >0.4088</td>\n",
       "      <td id=\"T_f80e7_row0_col5\" class=\"data row0 col5\" >0.3572</td>\n",
       "    </tr>\n",
       "    <tr>\n",
       "      <th id=\"T_f80e7_level0_row1\" class=\"row_heading level0 row1\" >1</th>\n",
       "      <td id=\"T_f80e7_row1_col0\" class=\"data row1 col0\" >98.7833</td>\n",
       "      <td id=\"T_f80e7_row1_col1\" class=\"data row1 col1\" >12120.3617</td>\n",
       "      <td id=\"T_f80e7_row1_col2\" class=\"data row1 col2\" >110.0925</td>\n",
       "      <td id=\"T_f80e7_row1_col3\" class=\"data row1 col3\" >0.7383</td>\n",
       "      <td id=\"T_f80e7_row1_col4\" class=\"data row1 col4\" >0.3314</td>\n",
       "      <td id=\"T_f80e7_row1_col5\" class=\"data row1 col5\" >0.3240</td>\n",
       "    </tr>\n",
       "    <tr>\n",
       "      <th id=\"T_f80e7_level0_row2\" class=\"row_heading level0 row2\" >2</th>\n",
       "      <td id=\"T_f80e7_row2_col0\" class=\"data row2 col0\" >173.0497</td>\n",
       "      <td id=\"T_f80e7_row2_col1\" class=\"data row2 col1\" >41271.5723</td>\n",
       "      <td id=\"T_f80e7_row2_col2\" class=\"data row2 col2\" >203.1541</td>\n",
       "      <td id=\"T_f80e7_row2_col3\" class=\"data row2 col3\" >0.5749</td>\n",
       "      <td id=\"T_f80e7_row2_col4\" class=\"data row2 col4\" >0.3742</td>\n",
       "      <td id=\"T_f80e7_row2_col5\" class=\"data row2 col5\" >0.3069</td>\n",
       "    </tr>\n",
       "    <tr>\n",
       "      <th id=\"T_f80e7_level0_row3\" class=\"row_heading level0 row3\" >3</th>\n",
       "      <td id=\"T_f80e7_row3_col0\" class=\"data row3 col0\" >100.9167</td>\n",
       "      <td id=\"T_f80e7_row3_col1\" class=\"data row3 col1\" >16662.0408</td>\n",
       "      <td id=\"T_f80e7_row3_col2\" class=\"data row3 col2\" >129.0815</td>\n",
       "      <td id=\"T_f80e7_row3_col3\" class=\"data row3 col3\" >0.8050</td>\n",
       "      <td id=\"T_f80e7_row3_col4\" class=\"data row3 col4\" >0.3242</td>\n",
       "      <td id=\"T_f80e7_row3_col5\" class=\"data row3 col5\" >0.2620</td>\n",
       "    </tr>\n",
       "    <tr>\n",
       "      <th id=\"T_f80e7_level0_row4\" class=\"row_heading level0 row4\" >4</th>\n",
       "      <td id=\"T_f80e7_row4_col0\" class=\"data row4 col0\" >87.5294</td>\n",
       "      <td id=\"T_f80e7_row4_col1\" class=\"data row4 col1\" >10710.4407</td>\n",
       "      <td id=\"T_f80e7_row4_col2\" class=\"data row4 col2\" >103.4913</td>\n",
       "      <td id=\"T_f80e7_row4_col3\" class=\"data row4 col3\" >0.8185</td>\n",
       "      <td id=\"T_f80e7_row4_col4\" class=\"data row4 col4\" >0.2027</td>\n",
       "      <td id=\"T_f80e7_row4_col5\" class=\"data row4 col5\" >0.1841</td>\n",
       "    </tr>\n",
       "    <tr>\n",
       "      <th id=\"T_f80e7_level0_row5\" class=\"row_heading level0 row5\" >Mean</th>\n",
       "      <td id=\"T_f80e7_row5_col0\" class=\"data row5 col0\" >124.2691</td>\n",
       "      <td id=\"T_f80e7_row5_col1\" class=\"data row5 col1\" >23696.7232</td>\n",
       "      <td id=\"T_f80e7_row5_col2\" class=\"data row5 col2\" >148.0067</td>\n",
       "      <td id=\"T_f80e7_row5_col3\" class=\"data row5 col3\" >0.6906</td>\n",
       "      <td id=\"T_f80e7_row5_col4\" class=\"data row5 col4\" >0.3283</td>\n",
       "      <td id=\"T_f80e7_row5_col5\" class=\"data row5 col5\" >0.2868</td>\n",
       "    </tr>\n",
       "    <tr>\n",
       "      <th id=\"T_f80e7_level0_row6\" class=\"row_heading level0 row6\" >Std</th>\n",
       "      <td id=\"T_f80e7_row6_col0\" class=\"data row6 col0\" >35.4352</td>\n",
       "      <td id=\"T_f80e7_row6_col1\" class=\"data row6 col1\" >13096.9280</td>\n",
       "      <td id=\"T_f80e7_row6_col2\" class=\"data row6 col2\" >42.3170</td>\n",
       "      <td id=\"T_f80e7_row6_col3\" class=\"data row6 col3\" >0.1229</td>\n",
       "      <td id=\"T_f80e7_row6_col4\" class=\"data row6 col4\" >0.0698</td>\n",
       "      <td id=\"T_f80e7_row6_col5\" class=\"data row6 col5\" >0.0598</td>\n",
       "    </tr>\n",
       "  </tbody>\n",
       "</table>\n"
      ],
      "text/plain": [
       "<pandas.io.formats.style.Styler at 0x16adb5e20>"
      ]
     },
     "metadata": {},
     "output_type": "display_data"
    },
    {
     "data": {
      "application/vnd.jupyter.widget-view+json": {
       "model_id": "8dbd293ea40f472e9e60ac89dc0e7a2f",
       "version_major": 2,
       "version_minor": 0
      },
      "text/plain": [
       "Processing:   0%|          | 0/4 [00:00<?, ?it/s]"
      ]
     },
     "metadata": {},
     "output_type": "display_data"
    },
    {
     "name": "stdout",
     "output_type": "stream",
     "text": [
      "AdaBoostRegressor(random_state=123)\n"
     ]
    }
   ],
   "source": [
    "ada = create_model('ada')\n",
    "print(ada)"
   ]
  },
  {
   "cell_type": "code",
   "execution_count": 76,
   "metadata": {},
   "outputs": [
    {
     "data": {
      "application/vnd.jupyter.widget-view+json": {
       "model_id": "4ad58f9646224b4688f4805ad886b9a3",
       "version_major": 2,
       "version_minor": 0
      },
      "text/plain": [
       "interactive(children=(ToggleButtons(description='Plot Type:', icons=('',), options=(('Pipeline Plot', 'pipelin…"
      ]
     },
     "metadata": {},
     "output_type": "display_data"
    }
   ],
   "source": [
    "evaluate_model(ada)"
   ]
  },
  {
   "cell_type": "code",
   "execution_count": 77,
   "metadata": {},
   "outputs": [
    {
     "data": {
      "text/html": [
       "<div>\n",
       "<style scoped>\n",
       "    .dataframe tbody tr th:only-of-type {\n",
       "        vertical-align: middle;\n",
       "    }\n",
       "\n",
       "    .dataframe tbody tr th {\n",
       "        vertical-align: top;\n",
       "    }\n",
       "\n",
       "    .dataframe thead th {\n",
       "        text-align: right;\n",
       "    }\n",
       "</style>\n",
       "<table border=\"1\" class=\"dataframe\">\n",
       "  <thead>\n",
       "    <tr style=\"text-align: right;\">\n",
       "      <th></th>\n",
       "      <th></th>\n",
       "      <th></th>\n",
       "    </tr>\n",
       "    <tr>\n",
       "      <th></th>\n",
       "      <th></th>\n",
       "      <th></th>\n",
       "    </tr>\n",
       "  </thead>\n",
       "  <tbody>\n",
       "    <tr>\n",
       "      <th>Initiated</th>\n",
       "      <td>. . . . . . . . . . . . . . . . . .</td>\n",
       "      <td>13:56:23</td>\n",
       "    </tr>\n",
       "    <tr>\n",
       "      <th>Status</th>\n",
       "      <td>. . . . . . . . . . . . . . . . . .</td>\n",
       "      <td>Searching Hyperparameters</td>\n",
       "    </tr>\n",
       "    <tr>\n",
       "      <th>Estimator</th>\n",
       "      <td>. . . . . . . . . . . . . . . . . .</td>\n",
       "      <td>AdaBoost Regressor</td>\n",
       "    </tr>\n",
       "  </tbody>\n",
       "</table>\n",
       "</div>"
      ],
      "text/plain": [
       "                                                                         \n",
       "                                                                         \n",
       "Initiated  . . . . . . . . . . . . . . . . . .                   13:56:23\n",
       "Status     . . . . . . . . . . . . . . . . . .  Searching Hyperparameters\n",
       "Estimator  . . . . . . . . . . . . . . . . . .         AdaBoost Regressor"
      ]
     },
     "metadata": {},
     "output_type": "display_data"
    },
    {
     "data": {
      "text/html": [
       "<style type=\"text/css\">\n",
       "#T_12a45_row5_col0, #T_12a45_row5_col1, #T_12a45_row5_col2, #T_12a45_row5_col3, #T_12a45_row5_col4, #T_12a45_row5_col5 {\n",
       "  background: yellow;\n",
       "}\n",
       "</style>\n",
       "<table id=\"T_12a45\">\n",
       "  <thead>\n",
       "    <tr>\n",
       "      <th class=\"blank level0\" >&nbsp;</th>\n",
       "      <th id=\"T_12a45_level0_col0\" class=\"col_heading level0 col0\" >MAE</th>\n",
       "      <th id=\"T_12a45_level0_col1\" class=\"col_heading level0 col1\" >MSE</th>\n",
       "      <th id=\"T_12a45_level0_col2\" class=\"col_heading level0 col2\" >RMSE</th>\n",
       "      <th id=\"T_12a45_level0_col3\" class=\"col_heading level0 col3\" >R2</th>\n",
       "      <th id=\"T_12a45_level0_col4\" class=\"col_heading level0 col4\" >RMSLE</th>\n",
       "      <th id=\"T_12a45_level0_col5\" class=\"col_heading level0 col5\" >MAPE</th>\n",
       "    </tr>\n",
       "    <tr>\n",
       "      <th class=\"index_name level0\" >Fold</th>\n",
       "      <th class=\"blank col0\" >&nbsp;</th>\n",
       "      <th class=\"blank col1\" >&nbsp;</th>\n",
       "      <th class=\"blank col2\" >&nbsp;</th>\n",
       "      <th class=\"blank col3\" >&nbsp;</th>\n",
       "      <th class=\"blank col4\" >&nbsp;</th>\n",
       "      <th class=\"blank col5\" >&nbsp;</th>\n",
       "    </tr>\n",
       "  </thead>\n",
       "  <tbody>\n",
       "    <tr>\n",
       "      <th id=\"T_12a45_level0_row0\" class=\"row_heading level0 row0\" >0</th>\n",
       "      <td id=\"T_12a45_row0_col0\" class=\"data row0 col0\" >159.0156</td>\n",
       "      <td id=\"T_12a45_row0_col1\" class=\"data row0 col1\" >36830.3596</td>\n",
       "      <td id=\"T_12a45_row0_col2\" class=\"data row0 col2\" >191.9124</td>\n",
       "      <td id=\"T_12a45_row0_col3\" class=\"data row0 col3\" >0.5275</td>\n",
       "      <td id=\"T_12a45_row0_col4\" class=\"data row0 col4\" >0.4062</td>\n",
       "      <td id=\"T_12a45_row0_col5\" class=\"data row0 col5\" >0.3531</td>\n",
       "    </tr>\n",
       "    <tr>\n",
       "      <th id=\"T_12a45_level0_row1\" class=\"row_heading level0 row1\" >1</th>\n",
       "      <td id=\"T_12a45_row1_col0\" class=\"data row1 col0\" >131.1794</td>\n",
       "      <td id=\"T_12a45_row1_col1\" class=\"data row1 col1\" >21441.5218</td>\n",
       "      <td id=\"T_12a45_row1_col2\" class=\"data row1 col2\" >146.4292</td>\n",
       "      <td id=\"T_12a45_row1_col3\" class=\"data row1 col3\" >0.5370</td>\n",
       "      <td id=\"T_12a45_row1_col4\" class=\"data row1 col4\" >0.3993</td>\n",
       "      <td id=\"T_12a45_row1_col5\" class=\"data row1 col5\" >0.4246</td>\n",
       "    </tr>\n",
       "    <tr>\n",
       "      <th id=\"T_12a45_level0_row2\" class=\"row_heading level0 row2\" >2</th>\n",
       "      <td id=\"T_12a45_row2_col0\" class=\"data row2 col0\" >153.9936</td>\n",
       "      <td id=\"T_12a45_row2_col1\" class=\"data row2 col1\" >31657.3791</td>\n",
       "      <td id=\"T_12a45_row2_col2\" class=\"data row2 col2\" >177.9252</td>\n",
       "      <td id=\"T_12a45_row2_col3\" class=\"data row2 col3\" >0.6739</td>\n",
       "      <td id=\"T_12a45_row2_col4\" class=\"data row2 col4\" >0.3287</td>\n",
       "      <td id=\"T_12a45_row2_col5\" class=\"data row2 col5\" >0.2772</td>\n",
       "    </tr>\n",
       "    <tr>\n",
       "      <th id=\"T_12a45_level0_row3\" class=\"row_heading level0 row3\" >3</th>\n",
       "      <td id=\"T_12a45_row3_col0\" class=\"data row3 col0\" >100.3338</td>\n",
       "      <td id=\"T_12a45_row3_col1\" class=\"data row3 col1\" >18335.7522</td>\n",
       "      <td id=\"T_12a45_row3_col2\" class=\"data row3 col2\" >135.4096</td>\n",
       "      <td id=\"T_12a45_row3_col3\" class=\"data row3 col3\" >0.7855</td>\n",
       "      <td id=\"T_12a45_row3_col4\" class=\"data row3 col4\" >0.3310</td>\n",
       "      <td id=\"T_12a45_row3_col5\" class=\"data row3 col5\" >0.2659</td>\n",
       "    </tr>\n",
       "    <tr>\n",
       "      <th id=\"T_12a45_level0_row4\" class=\"row_heading level0 row4\" >4</th>\n",
       "      <td id=\"T_12a45_row4_col0\" class=\"data row4 col0\" >68.4659</td>\n",
       "      <td id=\"T_12a45_row4_col1\" class=\"data row4 col1\" >6016.2582</td>\n",
       "      <td id=\"T_12a45_row4_col2\" class=\"data row4 col2\" >77.5645</td>\n",
       "      <td id=\"T_12a45_row4_col3\" class=\"data row4 col3\" >0.8981</td>\n",
       "      <td id=\"T_12a45_row4_col4\" class=\"data row4 col4\" >0.1787</td>\n",
       "      <td id=\"T_12a45_row4_col5\" class=\"data row4 col5\" >0.1527</td>\n",
       "    </tr>\n",
       "    <tr>\n",
       "      <th id=\"T_12a45_level0_row5\" class=\"row_heading level0 row5\" >Mean</th>\n",
       "      <td id=\"T_12a45_row5_col0\" class=\"data row5 col0\" >122.5977</td>\n",
       "      <td id=\"T_12a45_row5_col1\" class=\"data row5 col1\" >22856.2542</td>\n",
       "      <td id=\"T_12a45_row5_col2\" class=\"data row5 col2\" >145.8482</td>\n",
       "      <td id=\"T_12a45_row5_col3\" class=\"data row5 col3\" >0.6844</td>\n",
       "      <td id=\"T_12a45_row5_col4\" class=\"data row5 col4\" >0.3288</td>\n",
       "      <td id=\"T_12a45_row5_col5\" class=\"data row5 col5\" >0.2947</td>\n",
       "    </tr>\n",
       "    <tr>\n",
       "      <th id=\"T_12a45_level0_row6\" class=\"row_heading level0 row6\" >Std</th>\n",
       "      <td id=\"T_12a45_row6_col0\" class=\"data row6 col0\" >34.0927</td>\n",
       "      <td id=\"T_12a45_row6_col1\" class=\"data row6 col1\" >10758.7852</td>\n",
       "      <td id=\"T_12a45_row6_col2\" class=\"data row6 col2\" >39.8065</td>\n",
       "      <td id=\"T_12a45_row6_col3\" class=\"data row6 col3\" >0.1430</td>\n",
       "      <td id=\"T_12a45_row6_col4\" class=\"data row6 col4\" >0.0818</td>\n",
       "      <td id=\"T_12a45_row6_col5\" class=\"data row6 col5\" >0.0912</td>\n",
       "    </tr>\n",
       "  </tbody>\n",
       "</table>\n"
      ],
      "text/plain": [
       "<pandas.io.formats.style.Styler at 0x16a9a3ee0>"
      ]
     },
     "metadata": {},
     "output_type": "display_data"
    },
    {
     "data": {
      "text/html": [
       "<style type=\"text/css\">\n",
       "#T_12a45_row5_col0, #T_12a45_row5_col1, #T_12a45_row5_col2, #T_12a45_row5_col3, #T_12a45_row5_col4, #T_12a45_row5_col5 {\n",
       "  background: yellow;\n",
       "}\n",
       "</style>\n",
       "<table id=\"T_12a45\">\n",
       "  <thead>\n",
       "    <tr>\n",
       "      <th class=\"blank level0\" >&nbsp;</th>\n",
       "      <th id=\"T_12a45_level0_col0\" class=\"col_heading level0 col0\" >MAE</th>\n",
       "      <th id=\"T_12a45_level0_col1\" class=\"col_heading level0 col1\" >MSE</th>\n",
       "      <th id=\"T_12a45_level0_col2\" class=\"col_heading level0 col2\" >RMSE</th>\n",
       "      <th id=\"T_12a45_level0_col3\" class=\"col_heading level0 col3\" >R2</th>\n",
       "      <th id=\"T_12a45_level0_col4\" class=\"col_heading level0 col4\" >RMSLE</th>\n",
       "      <th id=\"T_12a45_level0_col5\" class=\"col_heading level0 col5\" >MAPE</th>\n",
       "    </tr>\n",
       "    <tr>\n",
       "      <th class=\"index_name level0\" >Fold</th>\n",
       "      <th class=\"blank col0\" >&nbsp;</th>\n",
       "      <th class=\"blank col1\" >&nbsp;</th>\n",
       "      <th class=\"blank col2\" >&nbsp;</th>\n",
       "      <th class=\"blank col3\" >&nbsp;</th>\n",
       "      <th class=\"blank col4\" >&nbsp;</th>\n",
       "      <th class=\"blank col5\" >&nbsp;</th>\n",
       "    </tr>\n",
       "  </thead>\n",
       "  <tbody>\n",
       "    <tr>\n",
       "      <th id=\"T_12a45_level0_row0\" class=\"row_heading level0 row0\" >0</th>\n",
       "      <td id=\"T_12a45_row0_col0\" class=\"data row0 col0\" >159.0156</td>\n",
       "      <td id=\"T_12a45_row0_col1\" class=\"data row0 col1\" >36830.3596</td>\n",
       "      <td id=\"T_12a45_row0_col2\" class=\"data row0 col2\" >191.9124</td>\n",
       "      <td id=\"T_12a45_row0_col3\" class=\"data row0 col3\" >0.5275</td>\n",
       "      <td id=\"T_12a45_row0_col4\" class=\"data row0 col4\" >0.4062</td>\n",
       "      <td id=\"T_12a45_row0_col5\" class=\"data row0 col5\" >0.3531</td>\n",
       "    </tr>\n",
       "    <tr>\n",
       "      <th id=\"T_12a45_level0_row1\" class=\"row_heading level0 row1\" >1</th>\n",
       "      <td id=\"T_12a45_row1_col0\" class=\"data row1 col0\" >131.1794</td>\n",
       "      <td id=\"T_12a45_row1_col1\" class=\"data row1 col1\" >21441.5218</td>\n",
       "      <td id=\"T_12a45_row1_col2\" class=\"data row1 col2\" >146.4292</td>\n",
       "      <td id=\"T_12a45_row1_col3\" class=\"data row1 col3\" >0.5370</td>\n",
       "      <td id=\"T_12a45_row1_col4\" class=\"data row1 col4\" >0.3993</td>\n",
       "      <td id=\"T_12a45_row1_col5\" class=\"data row1 col5\" >0.4246</td>\n",
       "    </tr>\n",
       "    <tr>\n",
       "      <th id=\"T_12a45_level0_row2\" class=\"row_heading level0 row2\" >2</th>\n",
       "      <td id=\"T_12a45_row2_col0\" class=\"data row2 col0\" >153.9936</td>\n",
       "      <td id=\"T_12a45_row2_col1\" class=\"data row2 col1\" >31657.3791</td>\n",
       "      <td id=\"T_12a45_row2_col2\" class=\"data row2 col2\" >177.9252</td>\n",
       "      <td id=\"T_12a45_row2_col3\" class=\"data row2 col3\" >0.6739</td>\n",
       "      <td id=\"T_12a45_row2_col4\" class=\"data row2 col4\" >0.3287</td>\n",
       "      <td id=\"T_12a45_row2_col5\" class=\"data row2 col5\" >0.2772</td>\n",
       "    </tr>\n",
       "    <tr>\n",
       "      <th id=\"T_12a45_level0_row3\" class=\"row_heading level0 row3\" >3</th>\n",
       "      <td id=\"T_12a45_row3_col0\" class=\"data row3 col0\" >100.3338</td>\n",
       "      <td id=\"T_12a45_row3_col1\" class=\"data row3 col1\" >18335.7522</td>\n",
       "      <td id=\"T_12a45_row3_col2\" class=\"data row3 col2\" >135.4096</td>\n",
       "      <td id=\"T_12a45_row3_col3\" class=\"data row3 col3\" >0.7855</td>\n",
       "      <td id=\"T_12a45_row3_col4\" class=\"data row3 col4\" >0.3310</td>\n",
       "      <td id=\"T_12a45_row3_col5\" class=\"data row3 col5\" >0.2659</td>\n",
       "    </tr>\n",
       "    <tr>\n",
       "      <th id=\"T_12a45_level0_row4\" class=\"row_heading level0 row4\" >4</th>\n",
       "      <td id=\"T_12a45_row4_col0\" class=\"data row4 col0\" >68.4659</td>\n",
       "      <td id=\"T_12a45_row4_col1\" class=\"data row4 col1\" >6016.2582</td>\n",
       "      <td id=\"T_12a45_row4_col2\" class=\"data row4 col2\" >77.5645</td>\n",
       "      <td id=\"T_12a45_row4_col3\" class=\"data row4 col3\" >0.8981</td>\n",
       "      <td id=\"T_12a45_row4_col4\" class=\"data row4 col4\" >0.1787</td>\n",
       "      <td id=\"T_12a45_row4_col5\" class=\"data row4 col5\" >0.1527</td>\n",
       "    </tr>\n",
       "    <tr>\n",
       "      <th id=\"T_12a45_level0_row5\" class=\"row_heading level0 row5\" >Mean</th>\n",
       "      <td id=\"T_12a45_row5_col0\" class=\"data row5 col0\" >122.5977</td>\n",
       "      <td id=\"T_12a45_row5_col1\" class=\"data row5 col1\" >22856.2542</td>\n",
       "      <td id=\"T_12a45_row5_col2\" class=\"data row5 col2\" >145.8482</td>\n",
       "      <td id=\"T_12a45_row5_col3\" class=\"data row5 col3\" >0.6844</td>\n",
       "      <td id=\"T_12a45_row5_col4\" class=\"data row5 col4\" >0.3288</td>\n",
       "      <td id=\"T_12a45_row5_col5\" class=\"data row5 col5\" >0.2947</td>\n",
       "    </tr>\n",
       "    <tr>\n",
       "      <th id=\"T_12a45_level0_row6\" class=\"row_heading level0 row6\" >Std</th>\n",
       "      <td id=\"T_12a45_row6_col0\" class=\"data row6 col0\" >34.0927</td>\n",
       "      <td id=\"T_12a45_row6_col1\" class=\"data row6 col1\" >10758.7852</td>\n",
       "      <td id=\"T_12a45_row6_col2\" class=\"data row6 col2\" >39.8065</td>\n",
       "      <td id=\"T_12a45_row6_col3\" class=\"data row6 col3\" >0.1430</td>\n",
       "      <td id=\"T_12a45_row6_col4\" class=\"data row6 col4\" >0.0818</td>\n",
       "      <td id=\"T_12a45_row6_col5\" class=\"data row6 col5\" >0.0912</td>\n",
       "    </tr>\n",
       "  </tbody>\n",
       "</table>\n"
      ],
      "text/plain": [
       "<pandas.io.formats.style.Styler at 0x16a9a3ee0>"
      ]
     },
     "metadata": {},
     "output_type": "display_data"
    },
    {
     "name": "stdout",
     "output_type": "stream",
     "text": [
      "Fitting 5 folds for each of 10 candidates, totalling 50 fits\n",
      "AdaBoostRegressor(random_state=123)\n"
     ]
    }
   ],
   "source": [
    "tuned_ada = tune_model(ada)\n",
    "print(tuned_ada)"
   ]
  },
  {
   "cell_type": "code",
   "execution_count": 78,
   "metadata": {},
   "outputs": [
    {
     "data": {
      "text/html": [],
      "text/plain": [
       "<IPython.core.display.HTML object>"
      ]
     },
     "metadata": {},
     "output_type": "display_data"
    },
    {
     "data": {
      "image/png": "[encoded data removed]",
      "text/plain": [
       "<Figure size 800x550 with 2 Axes>"
      ]
     },
     "metadata": {},
     "output_type": "display_data"
    }
   ],
   "source": [
    "plot_model(tuned_ada)"
   ]
  },
  {
   "cell_type": "code",
   "execution_count": 28,
   "metadata": {},
   "outputs": [
    {
     "data": {
      "application/vnd.jupyter.widget-view+json": {
       "model_id": "a4a09d24e2834034955dca6a8f7c7cbc",
       "version_major": 2,
       "version_minor": 0
      },
      "text/plain": [
       "interactive(children=(ToggleButtons(description='Plot Type:', icons=('',), options=(('Pipeline Plot', 'pipelin…"
      ]
     },
     "metadata": {},
     "output_type": "display_data"
    }
   ],
   "source": [
    "evaluate_model(tuned_ada)"
   ]
  },
  {
   "cell_type": "code",
   "execution_count": null,
   "metadata": {},
   "outputs": [],
   "source": []
  },
  {
   "cell_type": "markdown",
   "metadata": {},
   "source": [
    "lightgbm"
   ]
  },
  {
   "cell_type": "code",
   "execution_count": null,
   "metadata": {},
   "outputs": [],
   "source": [
    "lightgbm = create_model('lightgbm')\n",
    "print(lightgbm)"
   ]
  },
  {
   "cell_type": "code",
   "execution_count": null,
   "metadata": {},
   "outputs": [],
   "source": [
    "tuned_lightgm = tune_model(lightgbm)\n",
    "print(tuned_lightgm)"
   ]
  },
  {
   "cell_type": "markdown",
   "metadata": {},
   "source": [
    "decision tree"
   ]
  },
  {
   "cell_type": "code",
   "execution_count": null,
   "metadata": {},
   "outputs": [],
   "source": [
    "dt = create_model('dt')\n",
    "print(dt)"
   ]
  },
  {
   "cell_type": "code",
   "execution_count": null,
   "metadata": {},
   "outputs": [],
   "source": [
    "evaluate_model(dt)"
   ]
  },
  {
   "cell_type": "code",
   "execution_count": null,
   "metadata": {},
   "outputs": [],
   "source": [
    "plot_model(dt)"
   ]
  },
  {
   "cell_type": "code",
   "execution_count": null,
   "metadata": {},
   "outputs": [],
   "source": [
    "interpret_model(dt)"
   ]
  },
  {
   "cell_type": "code",
   "execution_count": null,
   "metadata": {},
   "outputs": [],
   "source": [
    "tuned_dt = tune_model(dt)\n",
    "print(tuned_dt)"
   ]
  },
  {
   "cell_type": "markdown",
   "metadata": {},
   "source": [
    "Extra Tree Regression (et)"
   ]
  },
  {
   "cell_type": "code",
   "execution_count": null,
   "metadata": {},
   "outputs": [],
   "source": [
    "etr = create_model('et')\n",
    "print(etr)"
   ]
  },
  {
   "cell_type": "code",
   "execution_count": null,
   "metadata": {},
   "outputs": [],
   "source": [
    "evaluate_model(etr)"
   ]
  },
  {
   "cell_type": "code",
   "execution_count": null,
   "metadata": {},
   "outputs": [],
   "source": [
    "tuned_etr = tune_model(etr)\n",
    "print(tuned_etr)"
   ]
  },
  {
   "cell_type": "code",
   "execution_count": null,
   "metadata": {},
   "outputs": [],
   "source": [
    "evaluate_model(tuned_etr)"
   ]
  },
  {
   "cell_type": "markdown",
   "metadata": {},
   "source": [
    "Gradient Boosting Regressor (gbr)"
   ]
  },
  {
   "cell_type": "code",
   "execution_count": null,
   "metadata": {},
   "outputs": [],
   "source": [
    "gbr = create_model('gbr')\n",
    "print(gbr)"
   ]
  },
  {
   "cell_type": "code",
   "execution_count": null,
   "metadata": {},
   "outputs": [],
   "source": [
    "tuned_gbr = tune_model(gbr)\n",
    "print(tuned_gbr)"
   ]
  },
  {
   "cell_type": "markdown",
   "metadata": {},
   "source": [
    "ada"
   ]
  },
  {
   "cell_type": "code",
   "execution_count": null,
   "metadata": {},
   "outputs": [],
   "source": [
    "ada = create_model('ada')\n",
    "print(ada)"
   ]
  },
  {
   "cell_type": "markdown",
   "metadata": {},
   "source": [
    "xgboost"
   ]
  },
  {
   "cell_type": "code",
   "execution_count": null,
   "metadata": {},
   "outputs": [],
   "source": [
    "xgboost = create_model('xgboost')\n",
    "print(xgboost)"
   ]
  },
  {
   "cell_type": "markdown",
   "metadata": {},
   "source": [
    "random forest"
   ]
  },
  {
   "cell_type": "code",
   "execution_count": null,
   "metadata": {},
   "outputs": [],
   "source": [
    "rf = create_model('rf')\n",
    "print(rf)"
   ]
  },
  {
   "cell_type": "markdown",
   "metadata": {},
   "source": [
    "olr"
   ]
  },
  {
   "cell_type": "code",
   "execution_count": null,
   "metadata": {},
   "outputs": [],
   "source": [
    "olr = create_model('lr')\n",
    "print(olr)"
   ]
  },
  {
   "cell_type": "code",
   "execution_count": null,
   "metadata": {},
   "outputs": [],
   "source": [
    "evaluate_model(olr)"
   ]
  },
  {
   "cell_type": "markdown",
   "metadata": {},
   "source": [
    "tune_olr"
   ]
  },
  {
   "cell_type": "code",
   "execution_count": null,
   "metadata": {},
   "outputs": [],
   "source": [
    "tune_olr = tune_model(olr)\n",
    "print(tune_olr)"
   ]
  },
  {
   "cell_type": "markdown",
   "metadata": {},
   "source": [
    "lasso"
   ]
  },
  {
   "cell_type": "code",
   "execution_count": null,
   "metadata": {},
   "outputs": [],
   "source": [
    "lasso = create_model('lasso')\n",
    "print(lasso)"
   ]
  },
  {
   "cell_type": "markdown",
   "metadata": {},
   "source": [
    "ridge"
   ]
  },
  {
   "cell_type": "code",
   "execution_count": null,
   "metadata": {},
   "outputs": [],
   "source": [
    "ridge = create_model('ridge')\n",
    "print(ridge)"
   ]
  },
  {
   "cell_type": "code",
   "execution_count": null,
   "metadata": {},
   "outputs": [],
   "source": [
    "\n",
    "for model in model_names:\n",
    "    model = create_model(model)\n",
    "    print(model)"
   ]
  },
  {
   "cell_type": "code",
   "execution_count": null,
   "metadata": {},
   "outputs": [],
   "source": [
    "import fpdf\n",
    "\n",
    "pdf = fpdf.FPDF(format='letter')\n",
    "pdf.add_page()\n",
    "pdf.set_font(\"Arial\", size=12)"
   ]
  },
  {
   "cell_type": "code",
   "execution_count": null,
   "metadata": {},
   "outputs": [],
   "source": [
    "model_names"
   ]
  },
  {
   "cell_type": "code",
   "execution_count": null,
   "metadata": {},
   "outputs": [],
   "source": [
    "svm = create_model('svm')\n",
    "print(svm)"
   ]
  },
  {
   "cell_type": "markdown",
   "metadata": {},
   "source": [
    "# SMOTE "
   ]
  },
  {
   "cell_type": "markdown",
   "metadata": {},
   "source": [
    "from imblearn.over_sampling import SMOTE\n",
    "\n",
    "# Instantiate the SMOTE regressor\n",
    "smote = SMOTE()\n",
    "\n",
    "# Fit the SMOTE regressor to the data and generate synthetic samples\n",
    "X_oversampled, y_oversampled = smote.fit_resample(X, y)\n",
    "\n",
    "# Print the shape of the original and oversampled data\n",
    "print(\"Original Data:\", X.shape, y.shape)\n",
    "print(\"Oversampled Data:\", X_oversampled.shape, y_oversampled.shape)\n"
   ]
  },
  {
   "cell_type": "code",
   "execution_count": null,
   "metadata": {},
   "outputs": [],
   "source": [
    "from imblearn.over_sampling import SMOTE\n",
    "\n",
    "# Instantiate the SMOTE regressor\n",
    "smote = SMOTE()\n",
    "\n",
    "# Fit the SMOTE regressor to the data and generate synthetic samples\n",
    "X_oversampled, y_oversampled = smote.fit_resample(X, y)\n",
    "\n",
    "# Print the shape of the original and oversampled data\n",
    "print(\"Original Data:\", X.shape, y.shape)\n",
    "print(\"Oversampled Data:\", X_oversampled.shape, y_oversampled.shape)\n"
   ]
  },
  {
   "cell_type": "code",
   "execution_count": null,
   "metadata": {},
   "outputs": [],
   "source": []
  }
 ],
 "metadata": {
  "kernelspec": {
   "display_name": "Python 3 (ipykernel)",
   "language": "python",
   "name": "python3"
  },
  "language_info": {
   "codemirror_mode": {
    "name": "ipython",
    "version": 3
   },
   "file_extension": ".py",
   "mimetype": "text/x-python",
   "name": "python",
   "nbconvert_exporter": "python",
   "pygments_lexer": "ipython3",
   "version": "3.9.6"
  }
 },
 "nbformat": 4,
 "nbformat_minor": 4
}
